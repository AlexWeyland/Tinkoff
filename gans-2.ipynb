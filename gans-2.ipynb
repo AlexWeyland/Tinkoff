{
  "nbformat": 4,
  "nbformat_minor": 0,
  "metadata": {
    "colab": {
      "name": "gans.ipynb",
      "provenance": [],
      "collapsed_sections": []
    },
    "kernelspec": {
      "name": "python3",
      "display_name": "Python 3"
    },
    "accelerator": "GPU"
  },
  "cells": [
    {
      "cell_type": "markdown",
      "metadata": {
        "id": "iYPV9p90wSgG"
      },
      "source": [
        "## Датасет\n"
      ]
    },
    {
      "cell_type": "code",
      "metadata": {
        "id": "RjCn03H0Rimk",
        "colab": {
          "base_uri": "https://localhost:8080/"
        },
        "outputId": "dbbf677f-5ae0-40a5-dfba-70af48bfd544"
      },
      "source": [
        "from google.colab import drive\n",
        "drive.mount('/content/drive')"
      ],
      "execution_count": null,
      "outputs": [
        {
          "output_type": "stream",
          "text": [
            "Mounted at /content/drive\n"
          ],
          "name": "stdout"
        }
      ]
    },
    {
      "cell_type": "code",
      "metadata": {
        "id": "z7AF9qQ04b2k"
      },
      "source": [
        "import torch\n",
        "import torch.nn as nn\n",
        "import numpy as np"
      ],
      "execution_count": null,
      "outputs": []
    },
    {
      "cell_type": "code",
      "metadata": {
        "id": "_fRvyzm54Qe5"
      },
      "source": [
        "import torchvision"
      ],
      "execution_count": null,
      "outputs": []
    },
    {
      "cell_type": "code",
      "metadata": {
        "id": "7zY4hZQYzgta"
      },
      "source": [
        "from torchvision import transforms, datasets"
      ],
      "execution_count": null,
      "outputs": []
    },
    {
      "cell_type": "code",
      "metadata": {
        "colab": {
          "base_uri": "https://localhost:8080/"
        },
        "id": "V2Ac6rs08e72",
        "outputId": "e56ee631-10f4-45c5-c360-de81e3670da8"
      },
      "source": [
        "from google_drive_downloader import GoogleDriveDownloader as gdd\n",
        "dl = \"18UTENzuzvwViI0c9uELD4eN4Z9W0H83b\"\n",
        "gdd.download_file_from_google_drive(file_id=dl, dest_path='./img_align_celeba2.zip', unzip=True)"
      ],
      "execution_count": null,
      "outputs": [
        {
          "output_type": "stream",
          "text": [
            "Downloading 18UTENzuzvwViI0c9uELD4eN4Z9W0H83b into ./img_align_celeba2.zip... Done.\n",
            "Unzipping...Done.\n"
          ],
          "name": "stdout"
        }
      ]
    },
    {
      "cell_type": "code",
      "metadata": {
        "colab": {
          "base_uri": "https://localhost:8080/"
        },
        "id": "7vylrDfOAxYl",
        "outputId": "63bd3cfc-b49e-429b-b395-0415553cfee3"
      },
      "source": [
        "!mkdir tmp"
      ],
      "execution_count": null,
      "outputs": [
        {
          "output_type": "stream",
          "text": [
            "mkdir: cannot create directory ‘tmp’: File exists\n"
          ],
          "name": "stdout"
        }
      ]
    },
    {
      "cell_type": "code",
      "metadata": {
        "id": "GWClbd_BA1eU"
      },
      "source": [
        "!cp -R /content/img_align_celeba /content/tmp"
      ],
      "execution_count": null,
      "outputs": []
    },
    {
      "cell_type": "code",
      "metadata": {
        "id": "raBYoUEjeXRm"
      },
      "source": [
        "device = torch.device('cuda:0')  # не забудьте включить GPU\n",
        "\n",
        "image_size = 64\n",
        "batch_size = 64"
      ],
      "execution_count": null,
      "outputs": []
    },
    {
      "cell_type": "code",
      "metadata": {
        "id": "__rYnOod4ded"
      },
      "source": [
        "transform=transforms.Compose([\n",
        "    transforms.Resize(image_size),\n",
        "    transforms.CenterCrop(image_size),\n",
        "    transforms.ToTensor(),\n",
        "    transforms.Normalize((0.5, 0.5, 0.5), (0.5, 0.5, 0.5)),\n",
        "])\n",
        "\n",
        "dataset = datasets.ImageFolder(root=\"/content/tmp\", transform=transform)\n",
        "\n",
        "loader = torch.utils.data.DataLoader(dataset, batch_size=batch_size, shuffle=True)"
      ],
      "execution_count": null,
      "outputs": []
    },
    {
      "cell_type": "code",
      "metadata": {
        "id": "BE8y2oIB_2N3",
        "colab": {
          "base_uri": "https://localhost:8080/"
        },
        "outputId": "9636b0b8-a2f3-4ac1-8078-7dacfdac883c"
      },
      "source": [
        "dataset[5][0]"
      ],
      "execution_count": null,
      "outputs": [
        {
          "output_type": "execute_result",
          "data": {
            "text/plain": [
              "tensor([[[ 1.0000,  1.0000,  1.0000,  ...,  0.8118,  0.8039,  0.7961],\n",
              "         [ 1.0000,  1.0000,  1.0000,  ...,  0.8118,  0.8039,  0.7961],\n",
              "         [ 1.0000,  1.0000,  1.0000,  ...,  0.8118,  0.8039,  0.7961],\n",
              "         ...,\n",
              "         [ 0.9843,  0.9843,  0.9922,  ...,  0.3333,  0.6706,  0.7725],\n",
              "         [ 0.9686,  0.9686,  0.9765,  ...,  0.1451,  0.4431,  0.5843],\n",
              "         [ 0.9922,  0.9922,  0.9843,  ..., -0.0902,  0.1059,  0.2078]],\n",
              "\n",
              "        [[ 1.0000,  1.0000,  1.0000,  ...,  0.8118,  0.8039,  0.7961],\n",
              "         [ 1.0000,  1.0000,  1.0000,  ...,  0.8118,  0.8039,  0.7961],\n",
              "         [ 1.0000,  1.0000,  1.0000,  ...,  0.8118,  0.8039,  0.7961],\n",
              "         ...,\n",
              "         [ 1.0000,  1.0000,  1.0000,  ...,  0.3255,  0.6784,  0.7490],\n",
              "         [ 1.0000,  1.0000,  1.0000,  ...,  0.1137,  0.4275,  0.5686],\n",
              "         [ 0.9922,  0.9922,  0.9922,  ..., -0.1373,  0.0824,  0.1922]],\n",
              "\n",
              "        [[ 1.0000,  1.0000,  1.0000,  ...,  0.8118,  0.8039,  0.7961],\n",
              "         [ 1.0000,  1.0000,  1.0000,  ...,  0.8118,  0.8039,  0.7961],\n",
              "         [ 1.0000,  1.0000,  1.0000,  ...,  0.8118,  0.8039,  0.7961],\n",
              "         ...,\n",
              "         [ 1.0000,  0.9922,  0.9843,  ...,  0.2471,  0.6706,  0.7725],\n",
              "         [ 1.0000,  0.9843,  0.9451,  ...,  0.0353,  0.3961,  0.5765],\n",
              "         [ 1.0000,  0.9843,  0.9686,  ..., -0.1922,  0.0745,  0.2235]]])"
            ]
          },
          "metadata": {
            "tags": []
          },
          "execution_count": 15
        }
      ]
    },
    {
      "cell_type": "code",
      "metadata": {
        "id": "ejjr9c8nEI1q"
      },
      "source": [
        "import matplotlib.pyplot as plt\n",
        "%matplotlib inline\n",
        "def show(img):\n",
        "    npimg = img.numpy()\n",
        "    plt.imshow(np.transpose(npimg, (1, 2, 0)), interpolation='nearest')"
      ],
      "execution_count": null,
      "outputs": []
    },
    {
      "cell_type": "code",
      "metadata": {
        "colab": {
          "base_uri": "https://localhost:8080/",
          "height": 303
        },
        "id": "Hfq1IEt9C2cC",
        "outputId": "d8d544f3-cf15-4952-cdd9-a3391897083a"
      },
      "source": [
        "show(dataset[5][0])"
      ],
      "execution_count": null,
      "outputs": [
        {
          "output_type": "stream",
          "text": [
            "Clipping input data to the valid range for imshow with RGB data ([0..1] for floats or [0..255] for integers).\n"
          ],
          "name": "stderr"
        },
        {
          "output_type": "display_data",
          "data": {
            "image/png": "[encoded data removed]",
            "text/plain": [
              "<Figure size 432x288 with 1 Axes>"
            ]
          },
          "metadata": {
            "tags": [],
            "needs_background": "light"
          }
        }
      ]
    },
    {
      "cell_type": "markdown",
      "metadata": {
        "id": "hv2Jga9EPaeT"
      },
      "source": [
        "## Модель\n"
      ]
    },
    {
      "cell_type": "code",
      "metadata": {
        "id": "xUkaAeWKAYpX"
      },
      "source": [
        "device = torch.device('cuda:0')"
      ],
      "execution_count": null,
      "outputs": []
    },
    {
      "cell_type": "code",
      "metadata": {
        "id": "3CuKv_Zi54ra"
      },
      "source": [
        "num_channels = 3\n",
        "latent_size = 100\n",
        "base_size = 64\n",
        "\n",
        "G = nn.Sequential(\n",
        "    nn.ConvTranspose2d(latent_size, base_size * 16, 4, 1, 0, bias=False),\n",
        "    nn.BatchNorm2d(base_size * 16),\n",
        "    nn.ReLU(True),\n",
        "    \n",
        "    nn.ConvTranspose2d(base_size * 16, base_size * 8, 4, 2, 1, bias=False),\n",
        "    nn.BatchNorm2d(base_size * 8),\n",
        "    nn.ReLU(True),\n",
        "    \n",
        "    nn.ConvTranspose2d(base_size * 8, base_size * 4, 4, 2, 1, bias=False),\n",
        "    nn.BatchNorm2d(base_size * 4),\n",
        "    nn.ReLU(True),\n",
        "    \n",
        "    nn.ConvTranspose2d(base_size * 4, base_size * 2, 4, 2, 1, bias=False),\n",
        "    nn.BatchNorm2d(base_size * 2),\n",
        "    nn.ReLU(True),\n",
        "    \n",
        "    nn.ConvTranspose2d(base_size * 2, num_channels, 4, 2, 1, bias=False),\n",
        "    nn.Tanh()\n",
        ")"
      ],
      "execution_count": null,
      "outputs": []
    },
    {
      "cell_type": "code",
      "metadata": {
        "colab": {
          "base_uri": "https://localhost:8080/"
        },
        "id": "_7E6ZrBnHB5C",
        "outputId": "c922ec55-3137-4cab-b400-28891b217174"
      },
      "source": [
        "!pip uninstall torch \n",
        "!pip install torch\n",
        "!pip install torch==1.7.0+cu101 torchvision==0.8.1+cu101 torchaudio==0.7.0 -f https://download.pytorch.org/whl/torch_stable.html"
      ],
      "execution_count": null,
      "outputs": [
        {
          "output_type": "stream",
          "text": [
            "Uninstalling torch-1.7.0+cu101:\n",
            "  Would remove:\n",
            "    /usr/local/bin/convert-caffe2-to-onnx\n",
            "    /usr/local/bin/convert-onnx-to-caffe2\n",
            "    /usr/local/lib/python3.6/dist-packages/caffe2/*\n",
            "    /usr/local/lib/python3.6/dist-packages/torch-1.7.0+cu101.dist-info/*\n",
            "    /usr/local/lib/python3.6/dist-packages/torch/*\n",
            "Proceed (y/n)? \u001b[31mERROR: Operation cancelled by user\u001b[0m\n",
            "Traceback (most recent call last):\n",
            "  File \"/usr/local/lib/python3.6/dist-packages/pip/_internal/cli/base_command.py\", line 153, in _main\n",
            "    status = self.run(options, args)\n",
            "  File \"/usr/local/lib/python3.6/dist-packages/pip/_internal/commands/uninstall.py\", line 79, in run\n",
            "    auto_confirm=options.yes, verbose=self.verbosity > 0,\n",
            "  File \"/usr/local/lib/python3.6/dist-packages/pip/_internal/req/req_install.py\", line 755, in uninstall\n",
            "    uninstalled_pathset.remove(auto_confirm, verbose)\n",
            "  File \"/usr/local/lib/python3.6/dist-packages/pip/_internal/req/req_uninstall.py\", line 388, in remove\n",
            "    if auto_confirm or self._allowed_to_proceed(verbose):\n",
            "  File \"/usr/local/lib/python3.6/dist-packages/pip/_internal/req/req_uninstall.py\", line 431, in _allowed_to_proceed\n",
            "    return ask('Proceed (y/n)? ', ('y', 'n')) == 'y'\n",
            "  File \"/usr/local/lib/python3.6/dist-packages/pip/_internal/utils/misc.py\", line 245, in ask\n",
            "    response = input(message)\n",
            "KeyboardInterrupt\n",
            "\n",
            "During handling of the above exception, another exception occurred:\n",
            "\n",
            "Traceback (most recent call last):\n",
            "  File \"/usr/local/bin/pip3\", line 8, in <module>\n",
            "    sys.exit(main())\n",
            "  File \"/usr/local/lib/python3.6/dist-packages/pip/_internal/main.py\", line 47, in main\n",
            "    return command.main(cmd_args)\n",
            "  File \"/usr/local/lib/python3.6/dist-packages/pip/_internal/cli/base_command.py\", line 103, in main\n",
            "    return self._main(args)\n",
            "  File \"/usr/local/lib/python3.6/dist-packages/pip/_internal/cli/base_command.py\", line 183, in _main\n",
            "    logger.debug('Exception information:', exc_info=True)\n",
            "  File \"/usr/lib/python3.6/logging/__init__.py\", line 1296, in debug\n",
            "    self._log(DEBUG, msg, args, **kwargs)\n",
            "  File \"/usr/lib/python3.6/logging/__init__.py\", line 1444, in _log\n",
            "    self.handle(record)\n",
            "  File \"/usr/lib/python3.6/logging/__init__.py\", line 1454, in handle\n",
            "    self.callHandlers(record)\n",
            "  File \"/usr/lib/python3.6/logging/__init__.py\", line 1516, in callHandlers\n",
            "    hdlr.handle(record)\n",
            "  File \"/usr/lib/python3.6/logging/__init__.py\", line 865, in handle\n",
            "    self.emit(record)\n",
            "  File \"/usr/lib/python3.6/logging/handlers.py\", line 73, in emit\n",
            "    logging.FileHandler.emit(self, record)\n",
            "  File \"/usr/lib/python3.6/logging/__init__.py\", line 1072, in emit\n",
            "    StreamHandler.emit(self, record)\n",
            "  File \"/usr/lib/python3.6/logging/__init__.py\", line 994, in emit\n",
            "    msg = self.format(record)\n",
            "  File \"/usr/lib/python3.6/logging/__init__.py\", line 840, in format\n",
            "    return fmt.format(record)\n",
            "  File \"/usr/local/lib/python3.6/dist-packages/pip/_internal/utils/logging.py\", line 151, in format\n",
            "    formatted = super(IndentingFormatter, self).format(record)\n",
            "  File \"/usr/lib/python3.6/logging/__init__.py\", line 585, in format\n",
            "    record.exc_text = self.formatException(record.exc_info)\n",
            "  File \"/usr/lib/python3.6/logging/__init__.py\", line 535, in formatException\n",
            "    traceback.print_exception(ei[0], ei[1], tb, None, sio)\n",
            "  File \"/usr/lib/python3.6/traceback.py\", line 104, in print_exception\n",
            "    type(value), value, tb, limit=limit).format(chain=chain):\n",
            "  File \"/usr/lib/python3.6/traceback.py\", line 509, in __init__\n",
            "    capture_locals=capture_locals)\n",
            "  File \"/usr/lib/python3.6/traceback.py\", line 364, in extract\n",
            "    f.line\n",
            "  File \"/usr/lib/python3.6/traceback.py\", line 286, in line\n",
            "    self._line = linecache.getline(self.filename, self.lineno).strip()\n",
            "  File \"/usr/lib/python3.6/linecache.py\", line 16, in getline\n",
            "    lines = getlines(filename, module_globals)\n",
            "  File \"/usr/lib/python3.6/linecache.py\", line 47, in getlines\n",
            "    return updatecache(filename, module_globals)\n",
            "  File \"/usr/lib/python3.6/linecache.py\", line 136, in updatecache\n",
            "    with tokenize.open(fullname) as fp:\n",
            "  File \"/usr/lib/python3.6/tokenize.py\", line 454, in open\n",
            "    encoding, lines = detect_encoding(buffer.readline)\n",
            "  File \"/usr/lib/python3.6/tokenize.py\", line 423, in detect_encoding\n",
            "    first = read_or_stop()\n",
            "  File \"/usr/lib/python3.6/tokenize.py\", line 381, in read_or_stop\n",
            "    return readline()\n",
            "KeyboardInterrupt\n",
            "Requirement already satisfied: torch in /usr/local/lib/python3.6/dist-packages (1.7.0+cu101)\n",
            "Requirement already satisfied: dataclasses in /usr/local/lib/python3.6/dist-packages (from torch) (0.8)\n",
            "Requirement already satisfied: future in /usr/local/lib/python3.6/dist-packages (from torch) (0.16.0)\n",
            "Requirement already satisfied: typing-extensions in /usr/local/lib/python3.6/dist-packages (from torch) (3.7.4.3)\n",
            "Requirement already satisfied: numpy in /usr/local/lib/python3.6/dist-packages (from torch) (1.18.5)\n",
            "Looking in links: https://download.pytorch.org/whl/torch_stable.html\n",
            "Requirement already satisfied: torch==1.7.0+cu101 in /usr/local/lib/python3.6/dist-packages (1.7.0+cu101)\n",
            "Requirement already satisfied: torchvision==0.8.1+cu101 in /usr/local/lib/python3.6/dist-packages (0.8.1+cu101)\n",
            "Collecting torchaudio==0.7.0\n",
            "\u001b[?25l  Downloading https://files.pythonhosted.org/packages/3f/23/6b54106b3de029d3f10cf8debc302491c17630357449c900d6209665b302/torchaudio-0.7.0-cp36-cp36m-manylinux1_x86_64.whl (7.6MB)\n",
            "\u001b[K     |████████████████████████████████| 7.6MB 9.9MB/s \n",
            "\u001b[?25hRequirement already satisfied: numpy in /usr/local/lib/python3.6/dist-packages (from torch==1.7.0+cu101) (1.18.5)\n",
            "Requirement already satisfied: dataclasses in /usr/local/lib/python3.6/dist-packages (from torch==1.7.0+cu101) (0.8)\n",
            "Requirement already satisfied: typing-extensions in /usr/local/lib/python3.6/dist-packages (from torch==1.7.0+cu101) (3.7.4.3)\n",
            "Requirement already satisfied: future in /usr/local/lib/python3.6/dist-packages (from torch==1.7.0+cu101) (0.16.0)\n",
            "Requirement already satisfied: pillow>=4.1.1 in /usr/local/lib/python3.6/dist-packages (from torchvision==0.8.1+cu101) (7.0.0)\n",
            "Installing collected packages: torchaudio\n",
            "Successfully installed torchaudio-0.7.0\n"
          ],
          "name": "stdout"
        }
      ]
    },
    {
      "cell_type": "code",
      "metadata": {
        "id": "FVtQGzqxG2QM"
      },
      "source": [
        "G = G.to(device)"
      ],
      "execution_count": null,
      "outputs": []
    },
    {
      "cell_type": "code",
      "metadata": {
        "id": "wtv1uteaAcjZ",
        "colab": {
          "base_uri": "https://localhost:8080/"
        },
        "outputId": "08ee486e-b1f7-4616-8855-a0b112e9db6d"
      },
      "source": [
        "z = torch.randn(1, latent_size, 1, 1).to(device)\n",
        "G(z).size()"
      ],
      "execution_count": null,
      "outputs": [
        {
          "output_type": "execute_result",
          "data": {
            "text/plain": [
              "torch.Size([1, 3, 64, 64])"
            ]
          },
          "metadata": {
            "tags": []
          },
          "execution_count": 21
        }
      ]
    },
    {
      "cell_type": "code",
      "metadata": {
        "id": "LZdLcZzviZlD"
      },
      "source": [
        "D = nn.Sequential(\n",
        "    nn.Conv2d(num_channels, base_size, 4, 2, 1, bias=False),\n",
        "    nn.ReLU(True),\n",
        "\n",
        "    nn.Conv2d(base_size, base_size*2, 4, 2, 1, bias=False),\n",
        "    nn.ReLU(True),\n",
        "    nn.BatchNorm2d(base_size*2),\n",
        "\n",
        "    nn.Conv2d(base_size*2, base_size*4, 4, 2, 1, bias=False),\n",
        "    nn.ReLU(True),\n",
        "    nn.BatchNorm2d(base_size*4),\n",
        "\n",
        "    nn.Conv2d(base_size*4, base_size*8, 4, 1, 0, bias=False),\n",
        "    nn.ReLU(True),\n",
        "    nn.BatchNorm2d(base_size*8),\n",
        "\n",
        "    nn.Conv2d(base_size * 8, 1, 4, 2, 0, bias=False),\n",
        "    nn.Sigmoid()\n",
        "  ).to(device)"
      ],
      "execution_count": null,
      "outputs": []
    },
    {
      "cell_type": "code",
      "metadata": {
        "id": "RF905ABD9cTG",
        "colab": {
          "base_uri": "https://localhost:8080/"
        },
        "outputId": "d4d000d0-9012-4a1d-c1bc-2e20413ce3b8"
      },
      "source": [
        "z = torch.randn(1, num_channels, image_size, image_size).to(device)\n",
        "D(z)"
      ],
      "execution_count": null,
      "outputs": [
        {
          "output_type": "execute_result",
          "data": {
            "text/plain": [
              "tensor([[[[0.5777]]]], device='cuda:0', grad_fn=<SigmoidBackward>)"
            ]
          },
          "metadata": {
            "tags": []
          },
          "execution_count": 23
        }
      ]
    },
    {
      "cell_type": "code",
      "metadata": {
        "id": "JTR8nHzu77kZ",
        "colab": {
          "base_uri": "https://localhost:8080/"
        },
        "outputId": "3d4124fe-14e7-497b-f5eb-300a3796ce31"
      },
      "source": [
        "def weights_init(m):\n",
        "    classname = m.__class__.__name__\n",
        "    if classname.find('Conv') != -1:\n",
        "        nn.init.normal_(m.weight.data, 0.0, 0.02)\n",
        "    elif classname.find('BatchNorm') != -1:\n",
        "        nn.init.normal_(m.weight.data, 1.0, 0.02)\n",
        "        nn.init.constant_(m.bias.data, 0)\n",
        "\n",
        "\n",
        "G.apply(weights_init)\n",
        "D.apply(weights_init)"
      ],
      "execution_count": null,
      "outputs": [
        {
          "output_type": "execute_result",
          "data": {
            "text/plain": [
              "Sequential(\n",
              "  (0): Conv2d(3, 64, kernel_size=(4, 4), stride=(2, 2), padding=(1, 1), bias=False)\n",
              "  (1): ReLU(inplace=True)\n",
              "  (2): Conv2d(64, 128, kernel_size=(4, 4), stride=(2, 2), padding=(1, 1), bias=False)\n",
              "  (3): ReLU(inplace=True)\n",
              "  (4): BatchNorm2d(128, eps=1e-05, momentum=0.1, affine=True, track_running_stats=True)\n",
              "  (5): Conv2d(128, 256, kernel_size=(4, 4), stride=(2, 2), padding=(1, 1), bias=False)\n",
              "  (6): ReLU(inplace=True)\n",
              "  (7): BatchNorm2d(256, eps=1e-05, momentum=0.1, affine=True, track_running_stats=True)\n",
              "  (8): Conv2d(256, 512, kernel_size=(4, 4), stride=(1, 1), bias=False)\n",
              "  (9): ReLU(inplace=True)\n",
              "  (10): BatchNorm2d(512, eps=1e-05, momentum=0.1, affine=True, track_running_stats=True)\n",
              "  (11): Conv2d(512, 1, kernel_size=(4, 4), stride=(2, 2), bias=False)\n",
              "  (12): Sigmoid()\n",
              ")"
            ]
          },
          "metadata": {
            "tags": []
          },
          "execution_count": 24
        }
      ]
    },
    {
      "cell_type": "code",
      "metadata": {
        "id": "7xNCYTvscbiY"
      },
      "source": [
        "def draw(z):\n",
        "    img = G(z).cpu()\n",
        "    img = img.view((num_channels, image_size, image_size)).transpose(0, 1).transpose(1, 2).cpu().detach().numpy()\n",
        "    plt.axis('off')\n",
        "    plt.imshow(img.reshape(image_size, image_size, num_channels))\n",
        "    plt.show()"
      ],
      "execution_count": null,
      "outputs": []
    },
    {
      "cell_type": "markdown",
      "metadata": {
        "id": "1NV6gwpojEv4"
      },
      "source": [
        "## Обучение\n"
      ]
    },
    {
      "cell_type": "code",
      "metadata": {
        "id": "6Cl9e1eIR8P0",
        "colab": {
          "base_uri": "https://localhost:8080/"
        },
        "outputId": "d67667d9-c1e2-42ce-d64f-326981ac01a6"
      },
      "source": [
        "D.load_state_dict(torch.load('/content/drive/My Drive/D.pt')) \n",
        "G.load_state_dict(torch.load('/content/drive/My Drive/G.pt'))"
      ],
      "execution_count": null,
      "outputs": [
        {
          "output_type": "execute_result",
          "data": {
            "text/plain": [
              "<All keys matched successfully>"
            ]
          },
          "metadata": {
            "tags": []
          },
          "execution_count": 27
        }
      ]
    },
    {
      "cell_type": "code",
      "metadata": {
        "id": "YupLq8GaRRhL",
        "colab": {
          "base_uri": "https://localhost:8080/",
          "height": 1000
        },
        "outputId": "f9996387-3a11-4350-f4e0-1b478c22fd1b"
      },
      "source": [
        "G.train()\n",
        "num_epochs = 50\n",
        "learning_rate = 1e-3\n",
        "adversarial_loss = torch.nn.BCELoss()\n",
        "img_list = []\n",
        "G_losses = []\n",
        "D_losses = []\n",
        "iters = 0\n",
        "fix_noize = torch.randn(1, latent_size, 1, 1).to(device)\n",
        " \n",
        "optim_G = torch.optim.Adam(G.parameters(), lr=learning_rate)\n",
        "optim_D = torch.optim.Adam(D.parameters(), lr=learning_rate)\n",
        "  \n",
        "for epoch in range(num_epochs):\n",
        "    for data, _ in loader:\n",
        " \n",
        "        optim_D.zero_grad()\n",
        "        real_imgs = data.to(device)\n",
        "        bs = len(data)\n",
        "        valid = torch.cuda.FloatTensor(data.shape[0]).fill_(1.0)\n",
        "        output = D(real_imgs).view(-1)\n",
        "        D_loss_r = adversarial_loss(output, valid)\n",
        "        D_loss_r.backward()\n",
        "        \n",
        "        noize = torch.randn(bs, latent_size, 1, 1).to(device)\n",
        "        fake = torch.cuda.FloatTensor(data.shape[0]).fill_(0.0)\n",
        "        gen_imgs = G(noize)\n",
        "        output = D(gen_imgs.detach()).view(-1)\n",
        "        D_loss_f = adversarial_loss(output, fake)\n",
        "        D_loss_f.backward()\n",
        "        D_loss = D_loss_r + D_loss_f\n",
        "        optim_D.step()\n",
        " \n",
        "        optim_G.zero_grad() \n",
        "        output = D(gen_imgs).view(-1)\n",
        "        G_loss = adversarial_loss(output, valid)\n",
        "        G_loss.backward()\n",
        "        optim_G.step()\n",
        " \n",
        "    \n",
        "        if iters % 250 == 0:\n",
        "            print(f'{epoch}/{num_epochs}, {iters/len(loader)}')\n",
        "            print(f'  G loss: {G_loss}')\n",
        "            print(f'  D loss: {D_loss}')\n",
        "            print()\n",
        "            \n",
        "        D_losses.append(D_loss.item())\n",
        "        G_losses.append(G_loss.item())\n",
        " \n",
        "        if iters % 1583 == 0:\n",
        "            D.eval()\n",
        "            G.eval()\n",
        "            draw(fix_noize) \n",
        "            torch.save(D.state_dict(), '/content/drive/My Drive/D.pt')\n",
        "            torch.save(G.state_dict(), '/content/drive/My Drive/G.pt')\n",
        "            D.train()\n",
        "            G.train()\n",
        "        iters += 1"
      ],
      "execution_count": null,
      "outputs": [
        {
          "output_type": "stream",
          "text": [
            "Clipping input data to the valid range for imshow with RGB data ([0..1] for floats or [0..255] for integers).\n"
          ],
          "name": "stderr"
        },
        {
          "output_type": "stream",
          "text": [
            "0/50, 0.0\n",
            "  G loss: 16.65125274658203\n",
            "  D loss: 0.10278342664241791\n",
            "\n"
          ],
          "name": "stdout"
        },
        {
          "output_type": "display_data",
          "data": {
            "image/png": "[encoded data removed]",
            "text/plain": [
              "<Figure size 432x288 with 1 Axes>"
            ]
          },
          "metadata": {
            "tags": [],
            "needs_background": "light"
          }
        },
        {
          "output_type": "stream",
          "text": [
            "0/50, 0.07896399241945673\n",
            "  G loss: 12.598546028137207\n",
            "  D loss: 1.387923002243042\n",
            "\n",
            "0/50, 0.15792798483891346\n",
            "  G loss: 8.459996223449707\n",
            "  D loss: 0.06300189346075058\n",
            "\n",
            "0/50, 0.2368919772583702\n",
            "  G loss: 6.415115833282471\n",
            "  D loss: 0.008069343864917755\n",
            "\n",
            "0/50, 0.3158559696778269\n",
            "  G loss: 6.903434753417969\n",
            "  D loss: 0.009941386058926582\n",
            "\n",
            "0/50, 0.39481996209728365\n",
            "  G loss: 7.0388288497924805\n",
            "  D loss: 0.02793208882212639\n",
            "\n",
            "0/50, 0.4737839545167404\n",
            "  G loss: 16.306894302368164\n",
            "  D loss: 0.013663651421666145\n",
            "\n"
          ],
          "name": "stdout"
        },
        {
          "output_type": "stream",
          "text": [
            "Clipping input data to the valid range for imshow with RGB data ([0..1] for floats or [0..255] for integers).\n"
          ],
          "name": "stderr"
        },
        {
          "output_type": "display_data",
          "data": {
            "image/png": "[encoded data removed]",
            "text/plain": [
              "<Figure size 432x288 with 1 Axes>"
            ]
          },
          "metadata": {
            "tags": [],
            "needs_background": "light"
          }
        },
        {
          "output_type": "stream",
          "text": [
            "0/50, 0.5527479469361971\n",
            "  G loss: 5.938042640686035\n",
            "  D loss: 0.0867304652929306\n",
            "\n",
            "0/50, 0.6317119393556538\n",
            "  G loss: 5.149591445922852\n",
            "  D loss: 0.09080887585878372\n",
            "\n",
            "0/50, 0.7106759317751106\n",
            "  G loss: 7.823009490966797\n",
            "  D loss: 0.014059394598007202\n",
            "\n",
            "0/50, 0.7896399241945673\n",
            "  G loss: 8.870513916015625\n",
            "  D loss: 0.0048530213534832\n",
            "\n",
            "0/50, 0.868603916614024\n",
            "  G loss: 10.393791198730469\n",
            "  D loss: 0.1799410879611969\n",
            "\n",
            "0/50, 0.9475679090334808\n",
            "  G loss: 7.179354190826416\n",
            "  D loss: 0.017563320696353912\n",
            "\n"
          ],
          "name": "stdout"
        },
        {
          "output_type": "stream",
          "text": [
            "Clipping input data to the valid range for imshow with RGB data ([0..1] for floats or [0..255] for integers).\n"
          ],
          "name": "stderr"
        },
        {
          "output_type": "display_data",
          "data": {
            "image/png": "[encoded data removed]",
            "text/plain": [
              "<Figure size 432x288 with 1 Axes>"
            ]
          },
          "metadata": {
            "tags": [],
            "needs_background": "light"
          }
        },
        {
          "output_type": "stream",
          "text": [
            "1/50, 1.0265319014529375\n",
            "  G loss: 7.392146110534668\n",
            "  D loss: 0.11087283492088318\n",
            "\n",
            "1/50, 1.1054958938723942\n",
            "  G loss: 11.608695983886719\n",
            "  D loss: 0.0054200924932956696\n",
            "\n",
            "1/50, 1.184459886291851\n",
            "  G loss: 12.194290161132812\n",
            "  D loss: 9.971254621632397e-05\n",
            "\n",
            "1/50, 1.2634238787113077\n",
            "  G loss: 10.658722877502441\n",
            "  D loss: 0.2966874837875366\n",
            "\n",
            "1/50, 1.3423878711307644\n",
            "  G loss: 12.212289810180664\n",
            "  D loss: 0.0033778753131628036\n",
            "\n",
            "1/50, 1.4213518635502211\n",
            "  G loss: 17.252307891845703\n",
            "  D loss: 0.3286299705505371\n",
            "\n"
          ],
          "name": "stdout"
        },
        {
          "output_type": "stream",
          "text": [
            "Clipping input data to the valid range for imshow with RGB data ([0..1] for floats or [0..255] for integers).\n"
          ],
          "name": "stderr"
        },
        {
          "output_type": "display_data",
          "data": {
            "image/png": "[encoded data removed]",
            "text/plain": [
              "<Figure size 432x288 with 1 Axes>"
            ]
          },
          "metadata": {
            "tags": [],
            "needs_background": "light"
          }
        },
        {
          "output_type": "stream",
          "text": [
            "1/50, 1.5003158559696779\n",
            "  G loss: 12.962175369262695\n",
            "  D loss: 0.1051626205444336\n",
            "\n",
            "1/50, 1.5792798483891346\n",
            "  G loss: 7.650847911834717\n",
            "  D loss: 0.009235147386789322\n",
            "\n",
            "1/50, 1.6582438408085913\n",
            "  G loss: 9.250072479248047\n",
            "  D loss: 0.004653323907405138\n",
            "\n",
            "1/50, 1.737207833228048\n",
            "  G loss: 7.031907081604004\n",
            "  D loss: 0.009785464964807034\n",
            "\n",
            "1/50, 1.8161718256475048\n",
            "  G loss: 11.295696258544922\n",
            "  D loss: 0.046134740114212036\n",
            "\n",
            "1/50, 1.8951358180669615\n",
            "  G loss: 10.68105697631836\n",
            "  D loss: 0.037255868315696716\n",
            "\n",
            "1/50, 1.9740998104864182\n",
            "  G loss: 10.975542068481445\n",
            "  D loss: 0.06566771119832993\n",
            "\n"
          ],
          "name": "stdout"
        },
        {
          "output_type": "stream",
          "text": [
            "Clipping input data to the valid range for imshow with RGB data ([0..1] for floats or [0..255] for integers).\n"
          ],
          "name": "stderr"
        },
        {
          "output_type": "display_data",
          "data": {
            "image/png": "[encoded data removed]",
            "text/plain": [
              "<Figure size 432x288 with 1 Axes>"
            ]
          },
          "metadata": {
            "tags": [],
            "needs_background": "light"
          }
        },
        {
          "output_type": "stream",
          "text": [
            "2/50, 2.053063802905875\n",
            "  G loss: 8.900490760803223\n",
            "  D loss: 0.1570470780134201\n",
            "\n",
            "2/50, 2.1320277953253317\n",
            "  G loss: 7.127171516418457\n",
            "  D loss: 0.08908914029598236\n",
            "\n",
            "2/50, 2.2109917877447884\n",
            "  G loss: 8.643119812011719\n",
            "  D loss: 0.005270151421427727\n",
            "\n",
            "2/50, 2.289955780164245\n",
            "  G loss: 8.347747802734375\n",
            "  D loss: 0.032703790813684464\n",
            "\n",
            "2/50, 2.368919772583702\n",
            "  G loss: 6.956120014190674\n",
            "  D loss: 0.0384221114218235\n",
            "\n",
            "2/50, 2.4478837650031586\n",
            "  G loss: 14.92098617553711\n",
            "  D loss: 0.0029394098091870546\n",
            "\n"
          ],
          "name": "stdout"
        },
        {
          "output_type": "stream",
          "text": [
            "Clipping input data to the valid range for imshow with RGB data ([0..1] for floats or [0..255] for integers).\n"
          ],
          "name": "stderr"
        },
        {
          "output_type": "display_data",
          "data": {
            "image/png": "[encoded data removed]",
            "text/plain": [
              "<Figure size 432x288 with 1 Axes>"
            ]
          },
          "metadata": {
            "tags": [],
            "needs_background": "light"
          }
        },
        {
          "output_type": "stream",
          "text": [
            "2/50, 2.5268477574226154\n",
            "  G loss: 8.290996551513672\n",
            "  D loss: 0.004243690986186266\n",
            "\n",
            "2/50, 2.605811749842072\n",
            "  G loss: 11.493841171264648\n",
            "  D loss: 0.0021256667096167803\n",
            "\n",
            "2/50, 2.684775742261529\n",
            "  G loss: 6.430661201477051\n",
            "  D loss: 0.047651030123233795\n",
            "\n",
            "2/50, 2.7637397346809855\n",
            "  G loss: 8.995420455932617\n",
            "  D loss: 0.00535124447196722\n",
            "\n",
            "2/50, 2.8427037271004423\n",
            "  G loss: 14.775033950805664\n",
            "  D loss: 0.00016107625560835004\n",
            "\n",
            "2/50, 2.921667719519899\n",
            "  G loss: 14.864891052246094\n",
            "  D loss: 2.2956759929656982\n",
            "\n"
          ],
          "name": "stdout"
        },
        {
          "output_type": "stream",
          "text": [
            "Clipping input data to the valid range for imshow with RGB data ([0..1] for floats or [0..255] for integers).\n"
          ],
          "name": "stderr"
        },
        {
          "output_type": "display_data",
          "data": {
            "image/png": "[encoded data removed]",
            "text/plain": [
              "<Figure size 432x288 with 1 Axes>"
            ]
          },
          "metadata": {
            "tags": [],
            "needs_background": "light"
          }
        },
        {
          "output_type": "stream",
          "text": [
            "3/50, 3.0006317119393557\n",
            "  G loss: 15.936356544494629\n",
            "  D loss: 0.003673032857477665\n",
            "\n",
            "3/50, 3.0795957043588125\n",
            "  G loss: 9.700859069824219\n",
            "  D loss: 0.008183954283595085\n",
            "\n",
            "3/50, 3.158559696778269\n",
            "  G loss: 5.898244380950928\n",
            "  D loss: 0.03912798687815666\n",
            "\n",
            "3/50, 3.237523689197726\n",
            "  G loss: 7.249967575073242\n",
            "  D loss: 0.011769494973123074\n",
            "\n",
            "3/50, 3.3164876816171827\n",
            "  G loss: 11.2548828125\n",
            "  D loss: 0.007676003035157919\n",
            "\n",
            "3/50, 3.3954516740366394\n",
            "  G loss: 11.63481330871582\n",
            "  D loss: 0.8688840270042419\n",
            "\n",
            "3/50, 3.474415666456096\n",
            "  G loss: 7.548648834228516\n",
            "  D loss: 0.007290522567927837\n",
            "\n"
          ],
          "name": "stdout"
        },
        {
          "output_type": "stream",
          "text": [
            "Clipping input data to the valid range for imshow with RGB data ([0..1] for floats or [0..255] for integers).\n"
          ],
          "name": "stderr"
        },
        {
          "output_type": "display_data",
          "data": {
            "image/png": "[encoded data removed]",
            "text/plain": [
              "<Figure size 432x288 with 1 Axes>"
            ]
          },
          "metadata": {
            "tags": [],
            "needs_background": "light"
          }
        },
        {
          "output_type": "stream",
          "text": [
            "3/50, 3.553379658875553\n",
            "  G loss: 11.014443397521973\n",
            "  D loss: 6.480188312707469e-05\n",
            "\n",
            "3/50, 3.6323436512950096\n",
            "  G loss: 16.066638946533203\n",
            "  D loss: 0.4386656582355499\n",
            "\n",
            "3/50, 3.7113076437144663\n",
            "  G loss: 9.02667236328125\n",
            "  D loss: 0.0023016389459371567\n",
            "\n",
            "3/50, 3.790271636133923\n",
            "  G loss: 5.1686577796936035\n",
            "  D loss: 0.11350703984498978\n",
            "\n",
            "3/50, 3.8692356285533798\n",
            "  G loss: 9.834022521972656\n",
            "  D loss: 0.0011384262470528483\n",
            "\n",
            "3/50, 3.9481996209728365\n",
            "  G loss: 5.988909721374512\n",
            "  D loss: 0.037294529378414154\n",
            "\n"
          ],
          "name": "stdout"
        },
        {
          "output_type": "stream",
          "text": [
            "Clipping input data to the valid range for imshow with RGB data ([0..1] for floats or [0..255] for integers).\n"
          ],
          "name": "stderr"
        },
        {
          "output_type": "display_data",
          "data": {
            "image/png": "[encoded data removed]",
            "text/plain": [
              "<Figure size 432x288 with 1 Axes>"
            ]
          },
          "metadata": {
            "tags": [],
            "needs_background": "light"
          }
        },
        {
          "output_type": "stream",
          "text": [
            "4/50, 4.027163613392293\n",
            "  G loss: 4.897181510925293\n",
            "  D loss: 0.0632842555642128\n",
            "\n",
            "4/50, 4.10612760581175\n",
            "  G loss: 3.70731258392334\n",
            "  D loss: 1.2928156852722168\n",
            "\n",
            "4/50, 4.185091598231207\n",
            "  G loss: 7.349483489990234\n",
            "  D loss: 0.004656493663787842\n",
            "\n",
            "4/50, 4.264055590650663\n",
            "  G loss: 21.334720611572266\n",
            "  D loss: 0.05807655677199364\n",
            "\n",
            "4/50, 4.34301958307012\n",
            "  G loss: 10.086348533630371\n",
            "  D loss: 0.004613841883838177\n",
            "\n",
            "4/50, 4.421983575489577\n",
            "  G loss: 6.774094581604004\n",
            "  D loss: 0.15363775193691254\n",
            "\n"
          ],
          "name": "stdout"
        },
        {
          "output_type": "stream",
          "text": [
            "Clipping input data to the valid range for imshow with RGB data ([0..1] for floats or [0..255] for integers).\n"
          ],
          "name": "stderr"
        },
        {
          "output_type": "display_data",
          "data": {
            "image/png": "[encoded data removed]",
            "text/plain": [
              "<Figure size 432x288 with 1 Axes>"
            ]
          },
          "metadata": {
            "tags": [],
            "needs_background": "light"
          }
        },
        {
          "output_type": "stream",
          "text": [
            "4/50, 4.500947567909034\n",
            "  G loss: 9.915460586547852\n",
            "  D loss: 0.0013051781570538878\n",
            "\n",
            "4/50, 4.57991156032849\n",
            "  G loss: 8.099977493286133\n",
            "  D loss: 0.04619421809911728\n",
            "\n",
            "4/50, 4.658875552747947\n",
            "  G loss: 6.093739986419678\n",
            "  D loss: 0.12486504763364792\n",
            "\n",
            "4/50, 4.737839545167404\n",
            "  G loss: 8.342730522155762\n",
            "  D loss: 0.015794429928064346\n",
            "\n",
            "4/50, 4.8168035375868605\n",
            "  G loss: 9.882789611816406\n",
            "  D loss: 0.003640265902504325\n",
            "\n",
            "4/50, 4.895767530006317\n",
            "  G loss: 9.01199722290039\n",
            "  D loss: 0.22860445082187653\n",
            "\n",
            "4/50, 4.974731522425774\n",
            "  G loss: 11.019315719604492\n",
            "  D loss: 0.0007586074061691761\n",
            "\n"
          ],
          "name": "stdout"
        },
        {
          "output_type": "stream",
          "text": [
            "Clipping input data to the valid range for imshow with RGB data ([0..1] for floats or [0..255] for integers).\n"
          ],
          "name": "stderr"
        },
        {
          "output_type": "display_data",
          "data": {
            "image/png": "[encoded data removed]",
            "text/plain": [
              "<Figure size 432x288 with 1 Axes>"
            ]
          },
          "metadata": {
            "tags": [],
            "needs_background": "light"
          }
        },
        {
          "output_type": "stream",
          "text": [
            "5/50, 5.053695514845231\n",
            "  G loss: 10.994808197021484\n",
            "  D loss: 0.002317269565537572\n",
            "\n",
            "5/50, 5.1326595072646874\n",
            "  G loss: 6.099300384521484\n",
            "  D loss: 0.03872574120759964\n",
            "\n",
            "5/50, 5.211623499684144\n",
            "  G loss: 6.029613018035889\n",
            "  D loss: 0.02451811544597149\n",
            "\n",
            "5/50, 5.290587492103601\n",
            "  G loss: 12.068140983581543\n",
            "  D loss: 0.001445018220692873\n",
            "\n",
            "5/50, 5.369551484523058\n",
            "  G loss: 7.24288272857666\n",
            "  D loss: 0.1497524380683899\n",
            "\n",
            "5/50, 5.448515476942514\n",
            "  G loss: 20.807039260864258\n",
            "  D loss: 0.010617467574775219\n",
            "\n"
          ],
          "name": "stdout"
        },
        {
          "output_type": "stream",
          "text": [
            "Clipping input data to the valid range for imshow with RGB data ([0..1] for floats or [0..255] for integers).\n"
          ],
          "name": "stderr"
        },
        {
          "output_type": "display_data",
          "data": {
            "image/png": "[encoded data removed]",
            "text/plain": [
              "<Figure size 432x288 with 1 Axes>"
            ]
          },
          "metadata": {
            "tags": [],
            "needs_background": "light"
          }
        },
        {
          "output_type": "stream",
          "text": [
            "5/50, 5.527479469361971\n",
            "  G loss: 12.47676944732666\n",
            "  D loss: 0.1234561875462532\n",
            "\n",
            "5/50, 5.606443461781428\n",
            "  G loss: 6.189487934112549\n",
            "  D loss: 0.029240533709526062\n",
            "\n",
            "5/50, 5.685407454200885\n",
            "  G loss: 7.519471168518066\n",
            "  D loss: 0.06961675733327866\n",
            "\n",
            "5/50, 5.764371446620341\n",
            "  G loss: 11.701955795288086\n",
            "  D loss: 0.00022547073604073375\n",
            "\n",
            "5/50, 5.843335439039798\n",
            "  G loss: 4.063635349273682\n",
            "  D loss: 0.4897617697715759\n",
            "\n",
            "5/50, 5.922299431459255\n",
            "  G loss: 3.216402530670166\n",
            "  D loss: 0.6414250135421753\n",
            "\n"
          ],
          "name": "stdout"
        },
        {
          "output_type": "stream",
          "text": [
            "Clipping input data to the valid range for imshow with RGB data ([0..1] for floats or [0..255] for integers).\n"
          ],
          "name": "stderr"
        },
        {
          "output_type": "display_data",
          "data": {
            "image/png": "[encoded data removed]",
            "text/plain": [
              "<Figure size 432x288 with 1 Axes>"
            ]
          },
          "metadata": {
            "tags": [],
            "needs_background": "light"
          }
        },
        {
          "output_type": "stream",
          "text": [
            "6/50, 6.0012634238787115\n",
            "  G loss: 13.082754135131836\n",
            "  D loss: 0.8555312752723694\n",
            "\n",
            "6/50, 6.080227416298168\n",
            "  G loss: 7.155982494354248\n",
            "  D loss: 0.02237364836037159\n",
            "\n",
            "6/50, 6.159191408717625\n",
            "  G loss: 6.253373622894287\n",
            "  D loss: 0.10676337778568268\n",
            "\n",
            "6/50, 6.238155401137082\n",
            "  G loss: 3.566272258758545\n",
            "  D loss: 0.19826269149780273\n",
            "\n",
            "6/50, 6.317119393556538\n",
            "  G loss: 6.006032943725586\n",
            "  D loss: 0.015967439860105515\n",
            "\n",
            "6/50, 6.396083385975995\n",
            "  G loss: 14.22332763671875\n",
            "  D loss: 7.93970757513307e-05\n",
            "\n",
            "6/50, 6.475047378395452\n",
            "  G loss: 9.33413314819336\n",
            "  D loss: 0.002828264841809869\n",
            "\n"
          ],
          "name": "stdout"
        },
        {
          "output_type": "stream",
          "text": [
            "Clipping input data to the valid range for imshow with RGB data ([0..1] for floats or [0..255] for integers).\n"
          ],
          "name": "stderr"
        },
        {
          "output_type": "display_data",
          "data": {
            "image/png": "[encoded data removed]",
            "text/plain": [
              "<Figure size 432x288 with 1 Axes>"
            ]
          },
          "metadata": {
            "tags": [],
            "needs_background": "light"
          }
        },
        {
          "output_type": "stream",
          "text": [
            "6/50, 6.554011370814909\n",
            "  G loss: 19.396162033081055\n",
            "  D loss: 0.006175471004098654\n",
            "\n",
            "6/50, 6.632975363234365\n",
            "  G loss: 18.421510696411133\n",
            "  D loss: 0.002472955035045743\n",
            "\n",
            "6/50, 6.711939355653822\n",
            "  G loss: 10.189874649047852\n",
            "  D loss: 0.0006165894446894526\n",
            "\n",
            "6/50, 6.790903348073279\n",
            "  G loss: 8.171534538269043\n",
            "  D loss: 0.06198548898100853\n",
            "\n",
            "6/50, 6.8698673404927355\n",
            "  G loss: 7.496045112609863\n",
            "  D loss: 0.09085521847009659\n",
            "\n",
            "6/50, 6.948831332912192\n",
            "  G loss: 6.791415214538574\n",
            "  D loss: 0.03952626883983612\n",
            "\n"
          ],
          "name": "stdout"
        },
        {
          "output_type": "stream",
          "text": [
            "Clipping input data to the valid range for imshow with RGB data ([0..1] for floats or [0..255] for integers).\n"
          ],
          "name": "stderr"
        },
        {
          "output_type": "display_data",
          "data": {
            "image/png": "[encoded data removed]",
            "text/plain": [
              "<Figure size 432x288 with 1 Axes>"
            ]
          },
          "metadata": {
            "tags": [],
            "needs_background": "light"
          }
        },
        {
          "output_type": "stream",
          "text": [
            "7/50, 7.027795325331649\n",
            "  G loss: 12.499897956848145\n",
            "  D loss: 0.00357504328712821\n",
            "\n",
            "7/50, 7.106759317751106\n",
            "  G loss: 8.599077224731445\n",
            "  D loss: 0.07837173342704773\n",
            "\n",
            "7/50, 7.185723310170562\n",
            "  G loss: 14.486942291259766\n",
            "  D loss: 3.3787815482355654e-05\n",
            "\n",
            "7/50, 7.264687302590019\n",
            "  G loss: 9.282522201538086\n",
            "  D loss: 0.004993798211216927\n",
            "\n",
            "7/50, 7.343651295009476\n",
            "  G loss: 11.066469192504883\n",
            "  D loss: 0.00016043729556258768\n",
            "\n",
            "7/50, 7.422615287428933\n",
            "  G loss: 7.673061370849609\n",
            "  D loss: 0.009576376527547836\n",
            "\n"
          ],
          "name": "stdout"
        },
        {
          "output_type": "stream",
          "text": [
            "Clipping input data to the valid range for imshow with RGB data ([0..1] for floats or [0..255] for integers).\n"
          ],
          "name": "stderr"
        },
        {
          "output_type": "display_data",
          "data": {
            "image/png": "[encoded data removed]",
            "text/plain": [
              "<Figure size 432x288 with 1 Axes>"
            ]
          },
          "metadata": {
            "tags": [],
            "needs_background": "light"
          }
        },
        {
          "output_type": "stream",
          "text": [
            "7/50, 7.501579279848389\n",
            "  G loss: 10.647970199584961\n",
            "  D loss: 0.023985013365745544\n",
            "\n",
            "7/50, 7.580543272267846\n",
            "  G loss: 9.24024772644043\n",
            "  D loss: 0.0024987009819597006\n",
            "\n",
            "7/50, 7.659507264687303\n",
            "  G loss: 22.910926818847656\n",
            "  D loss: 3.6066551208496094\n",
            "\n",
            "7/50, 7.7384712571067595\n",
            "  G loss: 9.887100219726562\n",
            "  D loss: 0.0024908578488975763\n",
            "\n",
            "7/50, 7.817435249526216\n",
            "  G loss: 5.156867027282715\n",
            "  D loss: 0.03437642753124237\n",
            "\n",
            "7/50, 7.896399241945673\n",
            "  G loss: 4.64689826965332\n",
            "  D loss: 1.6615817546844482\n",
            "\n",
            "7/50, 7.97536323436513\n",
            "  G loss: 6.861056804656982\n",
            "  D loss: 0.019178548827767372\n",
            "\n"
          ],
          "name": "stdout"
        },
        {
          "output_type": "stream",
          "text": [
            "Clipping input data to the valid range for imshow with RGB data ([0..1] for floats or [0..255] for integers).\n"
          ],
          "name": "stderr"
        },
        {
          "output_type": "display_data",
          "data": {
            "image/png": "[encoded data removed]",
            "text/plain": [
              "<Figure size 432x288 with 1 Axes>"
            ]
          },
          "metadata": {
            "tags": [],
            "needs_background": "light"
          }
        },
        {
          "output_type": "stream",
          "text": [
            "8/50, 8.054327226784586\n",
            "  G loss: 10.867240905761719\n",
            "  D loss: 0.05945733189582825\n",
            "\n",
            "8/50, 8.133291219204043\n",
            "  G loss: 10.207944869995117\n",
            "  D loss: 0.22370950877666473\n",
            "\n",
            "8/50, 8.2122552116235\n",
            "  G loss: 9.517786026000977\n",
            "  D loss: 0.004650810733437538\n",
            "\n",
            "8/50, 8.291219204042957\n",
            "  G loss: 5.464756965637207\n",
            "  D loss: 0.09518694877624512\n",
            "\n",
            "8/50, 8.370183196462413\n",
            "  G loss: 6.110376358032227\n",
            "  D loss: 0.0906597226858139\n",
            "\n",
            "8/50, 8.44914718888187\n",
            "  G loss: 12.022026062011719\n",
            "  D loss: 0.0027221732307225466\n",
            "\n"
          ],
          "name": "stdout"
        },
        {
          "output_type": "stream",
          "text": [
            "Clipping input data to the valid range for imshow with RGB data ([0..1] for floats or [0..255] for integers).\n"
          ],
          "name": "stderr"
        },
        {
          "output_type": "display_data",
          "data": {
            "image/png": "[encoded data removed]",
            "text/plain": [
              "<Figure size 432x288 with 1 Axes>"
            ]
          },
          "metadata": {
            "tags": [],
            "needs_background": "light"
          }
        },
        {
          "output_type": "stream",
          "text": [
            "8/50, 8.528111181301327\n",
            "  G loss: 0.7724142074584961\n",
            "  D loss: 2.507864475250244\n",
            "\n",
            "8/50, 8.607075173720784\n",
            "  G loss: 4.1192402839660645\n",
            "  D loss: 0.3090871274471283\n",
            "\n",
            "8/50, 8.68603916614024\n",
            "  G loss: 4.8651885986328125\n",
            "  D loss: 0.11584175378084183\n",
            "\n",
            "8/50, 8.765003158559697\n",
            "  G loss: 6.622564315795898\n",
            "  D loss: 0.0854843407869339\n",
            "\n",
            "8/50, 8.843967150979154\n",
            "  G loss: 9.456695556640625\n",
            "  D loss: 0.07946138828992844\n",
            "\n",
            "8/50, 8.92293114339861\n",
            "  G loss: 15.610601425170898\n",
            "  D loss: 1.3090444803237915\n",
            "\n"
          ],
          "name": "stdout"
        },
        {
          "output_type": "stream",
          "text": [
            "Clipping input data to the valid range for imshow with RGB data ([0..1] for floats or [0..255] for integers).\n"
          ],
          "name": "stderr"
        },
        {
          "output_type": "display_data",
          "data": {
            "image/png": "[encoded data removed]",
            "text/plain": [
              "<Figure size 432x288 with 1 Axes>"
            ]
          },
          "metadata": {
            "tags": [],
            "needs_background": "light"
          }
        },
        {
          "output_type": "stream",
          "text": [
            "9/50, 9.001895135818067\n",
            "  G loss: 8.197247505187988\n",
            "  D loss: 0.04311348497867584\n",
            "\n",
            "9/50, 9.080859128237524\n",
            "  G loss: 10.271090507507324\n",
            "  D loss: 0.4376971125602722\n",
            "\n",
            "9/50, 9.15982312065698\n",
            "  G loss: 15.05258846282959\n",
            "  D loss: 0.014304491691291332\n",
            "\n",
            "9/50, 9.238787113076437\n",
            "  G loss: 7.500832557678223\n",
            "  D loss: 0.07892141491174698\n",
            "\n",
            "9/50, 9.317751105495894\n",
            "  G loss: 11.981128692626953\n",
            "  D loss: 0.10232211649417877\n",
            "\n",
            "9/50, 9.39671509791535\n",
            "  G loss: 8.700630187988281\n",
            "  D loss: 0.003606768324971199\n",
            "\n",
            "9/50, 9.475679090334808\n",
            "  G loss: 6.064545631408691\n",
            "  D loss: 0.05081772059202194\n",
            "\n"
          ],
          "name": "stdout"
        },
        {
          "output_type": "stream",
          "text": [
            "Clipping input data to the valid range for imshow with RGB data ([0..1] for floats or [0..255] for integers).\n"
          ],
          "name": "stderr"
        },
        {
          "output_type": "display_data",
          "data": {
            "image/png": "[encoded data removed]",
            "text/plain": [
              "<Figure size 432x288 with 1 Axes>"
            ]
          },
          "metadata": {
            "tags": [],
            "needs_background": "light"
          }
        },
        {
          "output_type": "stream",
          "text": [
            "9/50, 9.554643082754264\n",
            "  G loss: 11.136844635009766\n",
            "  D loss: 0.02256859466433525\n",
            "\n",
            "9/50, 9.633607075173721\n",
            "  G loss: 7.078034400939941\n",
            "  D loss: 0.033281028270721436\n",
            "\n",
            "9/50, 9.712571067593178\n",
            "  G loss: 11.742650985717773\n",
            "  D loss: 0.10222763568162918\n",
            "\n",
            "9/50, 9.791535060012635\n",
            "  G loss: 6.751433849334717\n",
            "  D loss: 0.021467020735144615\n",
            "\n",
            "9/50, 9.870499052432091\n",
            "  G loss: 6.056117057800293\n",
            "  D loss: 0.023868447169661522\n",
            "\n",
            "9/50, 9.949463044851548\n",
            "  G loss: 5.848039150238037\n",
            "  D loss: 0.022759316489100456\n",
            "\n"
          ],
          "name": "stdout"
        },
        {
          "output_type": "stream",
          "text": [
            "Clipping input data to the valid range for imshow with RGB data ([0..1] for floats or [0..255] for integers).\n"
          ],
          "name": "stderr"
        },
        {
          "output_type": "display_data",
          "data": {
            "image/png": "[encoded data removed]",
            "text/plain": [
              "<Figure size 432x288 with 1 Axes>"
            ]
          },
          "metadata": {
            "tags": [],
            "needs_background": "light"
          }
        },
        {
          "output_type": "stream",
          "text": [
            "10/50, 10.028427037271005\n",
            "  G loss: 4.9373931884765625\n",
            "  D loss: 0.05927067995071411\n",
            "\n",
            "10/50, 10.107391029690461\n",
            "  G loss: 8.935498237609863\n",
            "  D loss: 0.003737084800377488\n",
            "\n",
            "10/50, 10.186355022109918\n",
            "  G loss: 7.736123085021973\n",
            "  D loss: 0.019970621913671494\n",
            "\n",
            "10/50, 10.265319014529375\n",
            "  G loss: 12.37667465209961\n",
            "  D loss: 0.0001597835507709533\n",
            "\n",
            "10/50, 10.344283006948832\n",
            "  G loss: 2.8006489276885986\n",
            "  D loss: 0.21421176195144653\n",
            "\n",
            "10/50, 10.423246999368288\n",
            "  G loss: 9.073570251464844\n",
            "  D loss: 0.031913019716739655\n",
            "\n"
          ],
          "name": "stdout"
        },
        {
          "output_type": "stream",
          "text": [
            "Clipping input data to the valid range for imshow with RGB data ([0..1] for floats or [0..255] for integers).\n"
          ],
          "name": "stderr"
        },
        {
          "output_type": "display_data",
          "data": {
            "image/png": "[encoded data removed]",
            "text/plain": [
              "<Figure size 432x288 with 1 Axes>"
            ]
          },
          "metadata": {
            "tags": [],
            "needs_background": "light"
          }
        },
        {
          "output_type": "stream",
          "text": [
            "10/50, 10.502210991787745\n",
            "  G loss: 12.296603202819824\n",
            "  D loss: 0.005989945959299803\n",
            "\n",
            "10/50, 10.581174984207202\n",
            "  G loss: 6.671865940093994\n",
            "  D loss: 1.278700351715088\n",
            "\n",
            "10/50, 10.660138976626659\n",
            "  G loss: 5.78068208694458\n",
            "  D loss: 0.13784325122833252\n",
            "\n",
            "10/50, 10.739102969046115\n",
            "  G loss: 8.033788681030273\n",
            "  D loss: 0.004755977541208267\n",
            "\n",
            "10/50, 10.818066961465572\n",
            "  G loss: 9.691963195800781\n",
            "  D loss: 0.000607130175922066\n",
            "\n",
            "10/50, 10.897030953885029\n",
            "  G loss: 6.014007568359375\n",
            "  D loss: 0.029822660610079765\n",
            "\n",
            "10/50, 10.975994946304485\n",
            "  G loss: 9.441794395446777\n",
            "  D loss: 0.0016635294305160642\n",
            "\n"
          ],
          "name": "stdout"
        },
        {
          "output_type": "stream",
          "text": [
            "Clipping input data to the valid range for imshow with RGB data ([0..1] for floats or [0..255] for integers).\n"
          ],
          "name": "stderr"
        },
        {
          "output_type": "display_data",
          "data": {
            "image/png": "[encoded data removed]",
            "text/plain": [
              "<Figure size 432x288 with 1 Axes>"
            ]
          },
          "metadata": {
            "tags": [],
            "needs_background": "light"
          }
        },
        {
          "output_type": "stream",
          "text": [
            "11/50, 11.054958938723942\n",
            "  G loss: 9.159605026245117\n",
            "  D loss: 0.06809744238853455\n",
            "\n",
            "11/50, 11.133922931143399\n",
            "  G loss: 17.076377868652344\n",
            "  D loss: 0.01605720818042755\n",
            "\n",
            "11/50, 11.212886923562856\n",
            "  G loss: 13.531024932861328\n",
            "  D loss: 0.0001002455028356053\n",
            "\n",
            "11/50, 11.291850915982312\n",
            "  G loss: 7.118400573730469\n",
            "  D loss: 0.01674106903374195\n",
            "\n",
            "11/50, 11.37081490840177\n",
            "  G loss: 6.72906494140625\n",
            "  D loss: 0.015629524365067482\n",
            "\n",
            "11/50, 11.449778900821226\n",
            "  G loss: 16.353485107421875\n",
            "  D loss: 0.003759881481528282\n",
            "\n"
          ],
          "name": "stdout"
        },
        {
          "output_type": "stream",
          "text": [
            "Clipping input data to the valid range for imshow with RGB data ([0..1] for floats or [0..255] for integers).\n"
          ],
          "name": "stderr"
        },
        {
          "output_type": "display_data",
          "data": {
            "image/png": "[encoded data removed]",
            "text/plain": [
              "<Figure size 432x288 with 1 Axes>"
            ]
          },
          "metadata": {
            "tags": [],
            "needs_background": "light"
          }
        },
        {
          "output_type": "stream",
          "text": [
            "11/50, 11.528742893240683\n",
            "  G loss: 9.125694274902344\n",
            "  D loss: 0.0009286829736083746\n",
            "\n",
            "11/50, 11.60770688566014\n",
            "  G loss: 14.321516990661621\n",
            "  D loss: 1.7602756997803226e-05\n",
            "\n",
            "11/50, 11.686670878079596\n",
            "  G loss: 13.647929191589355\n",
            "  D loss: 1.635464832361322e-05\n",
            "\n",
            "11/50, 11.765634870499053\n",
            "  G loss: 12.912202835083008\n",
            "  D loss: 0.017125314101576805\n",
            "\n",
            "11/50, 11.84459886291851\n",
            "  G loss: 13.455754280090332\n",
            "  D loss: 0.00024006249441299587\n",
            "\n",
            "11/50, 11.923562855337966\n",
            "  G loss: 22.331348419189453\n",
            "  D loss: 0.7311369180679321\n",
            "\n"
          ],
          "name": "stdout"
        },
        {
          "output_type": "stream",
          "text": [
            "Clipping input data to the valid range for imshow with RGB data ([0..1] for floats or [0..255] for integers).\n"
          ],
          "name": "stderr"
        },
        {
          "output_type": "display_data",
          "data": {
            "image/png": "[encoded data removed]",
            "text/plain": [
              "<Figure size 432x288 with 1 Axes>"
            ]
          },
          "metadata": {
            "tags": [],
            "needs_background": "light"
          }
        },
        {
          "output_type": "stream",
          "text": [
            "12/50, 12.002526847757423\n",
            "  G loss: 7.816110134124756\n",
            "  D loss: 0.01487173791974783\n",
            "\n",
            "12/50, 12.08149084017688\n",
            "  G loss: 8.399356842041016\n",
            "  D loss: 0.002413238398730755\n",
            "\n",
            "12/50, 12.160454832596336\n",
            "  G loss: 14.094263076782227\n",
            "  D loss: 0.010662107728421688\n",
            "\n",
            "12/50, 12.239418825015793\n",
            "  G loss: 13.323166847229004\n",
            "  D loss: 0.005735139828175306\n",
            "\n",
            "12/50, 12.31838281743525\n",
            "  G loss: 11.803131103515625\n",
            "  D loss: 0.44205087423324585\n",
            "\n",
            "12/50, 12.397346809854707\n",
            "  G loss: 14.675188064575195\n",
            "  D loss: 0.009260880760848522\n",
            "\n",
            "12/50, 12.476310802274163\n",
            "  G loss: 12.62952995300293\n",
            "  D loss: 0.010354860685765743\n",
            "\n"
          ],
          "name": "stdout"
        },
        {
          "output_type": "stream",
          "text": [
            "Clipping input data to the valid range for imshow with RGB data ([0..1] for floats or [0..255] for integers).\n"
          ],
          "name": "stderr"
        },
        {
          "output_type": "display_data",
          "data": {
            "image/png": "[encoded data removed]",
            "text/plain": [
              "<Figure size 432x288 with 1 Axes>"
            ]
          },
          "metadata": {
            "tags": [],
            "needs_background": "light"
          }
        },
        {
          "output_type": "stream",
          "text": [
            "12/50, 12.55527479469362\n",
            "  G loss: 11.206254959106445\n",
            "  D loss: 0.001141099026426673\n",
            "\n",
            "12/50, 12.634238787113077\n",
            "  G loss: 9.743253707885742\n",
            "  D loss: 0.004565713461488485\n",
            "\n",
            "12/50, 12.713202779532534\n",
            "  G loss: 4.989909648895264\n",
            "  D loss: 0.04519942030310631\n",
            "\n",
            "12/50, 12.79216677195199\n",
            "  G loss: 10.911320686340332\n",
            "  D loss: 0.0006877255509607494\n",
            "\n",
            "12/50, 12.871130764371447\n",
            "  G loss: 7.538278579711914\n",
            "  D loss: 0.00944449845701456\n",
            "\n",
            "12/50, 12.950094756790904\n",
            "  G loss: 10.935846328735352\n",
            "  D loss: 0.008255752734839916\n",
            "\n"
          ],
          "name": "stdout"
        },
        {
          "output_type": "stream",
          "text": [
            "Clipping input data to the valid range for imshow with RGB data ([0..1] for floats or [0..255] for integers).\n"
          ],
          "name": "stderr"
        },
        {
          "output_type": "display_data",
          "data": {
            "image/png": "[encoded data removed]",
            "text/plain": [
              "<Figure size 432x288 with 1 Axes>"
            ]
          },
          "metadata": {
            "tags": [],
            "needs_background": "light"
          }
        },
        {
          "output_type": "stream",
          "text": [
            "13/50, 13.02905874921036\n",
            "  G loss: 8.080196380615234\n",
            "  D loss: 0.06875539571046829\n",
            "\n",
            "13/50, 13.108022741629817\n",
            "  G loss: 11.014019012451172\n",
            "  D loss: 0.9230157732963562\n",
            "\n",
            "13/50, 13.186986734049274\n",
            "  G loss: 12.22929573059082\n",
            "  D loss: 0.0005747029790654778\n",
            "\n",
            "13/50, 13.26595072646873\n",
            "  G loss: 9.211437225341797\n",
            "  D loss: 0.004722265060991049\n",
            "\n",
            "13/50, 13.344914718888187\n",
            "  G loss: 11.354103088378906\n",
            "  D loss: 0.21784187853336334\n",
            "\n",
            "13/50, 13.423878711307644\n",
            "  G loss: 6.372642517089844\n",
            "  D loss: 0.017913592979311943\n",
            "\n"
          ],
          "name": "stdout"
        },
        {
          "output_type": "stream",
          "text": [
            "Clipping input data to the valid range for imshow with RGB data ([0..1] for floats or [0..255] for integers).\n"
          ],
          "name": "stderr"
        },
        {
          "output_type": "display_data",
          "data": {
            "image/png": "[encoded data removed]",
            "text/plain": [
              "<Figure size 432x288 with 1 Axes>"
            ]
          },
          "metadata": {
            "tags": [],
            "needs_background": "light"
          }
        },
        {
          "output_type": "stream",
          "text": [
            "13/50, 13.5028427037271\n",
            "  G loss: 9.556933403015137\n",
            "  D loss: 0.0008471102337352931\n",
            "\n",
            "13/50, 13.581806696146558\n",
            "  G loss: 11.053916931152344\n",
            "  D loss: 0.0004339364531915635\n",
            "\n",
            "13/50, 13.660770688566014\n",
            "  G loss: 6.7325439453125\n",
            "  D loss: 0.055934544652700424\n",
            "\n",
            "13/50, 13.739734680985471\n",
            "  G loss: 10.933650016784668\n",
            "  D loss: 2.6082847118377686\n",
            "\n",
            "13/50, 13.818698673404928\n",
            "  G loss: 9.902694702148438\n",
            "  D loss: 0.0015080786542966962\n",
            "\n",
            "13/50, 13.897662665824384\n",
            "  G loss: 9.227509498596191\n",
            "  D loss: 0.0006675700424239039\n",
            "\n",
            "13/50, 13.976626658243841\n",
            "  G loss: 15.958938598632812\n",
            "  D loss: 0.0015277425991371274\n",
            "\n"
          ],
          "name": "stdout"
        },
        {
          "output_type": "stream",
          "text": [
            "Clipping input data to the valid range for imshow with RGB data ([0..1] for floats or [0..255] for integers).\n"
          ],
          "name": "stderr"
        },
        {
          "output_type": "display_data",
          "data": {
            "image/png": "[encoded data removed]",
            "text/plain": [
              "<Figure size 432x288 with 1 Axes>"
            ]
          },
          "metadata": {
            "tags": [],
            "needs_background": "light"
          }
        },
        {
          "output_type": "stream",
          "text": [
            "14/50, 14.055590650663298\n",
            "  G loss: 6.766587734222412\n",
            "  D loss: 0.003494551172479987\n",
            "\n",
            "14/50, 14.134554643082755\n",
            "  G loss: 11.124723434448242\n",
            "  D loss: 0.0002885173016693443\n",
            "\n",
            "14/50, 14.213518635502211\n",
            "  G loss: 13.3336181640625\n",
            "  D loss: 0.010292659513652325\n",
            "\n",
            "14/50, 14.292482627921668\n",
            "  G loss: 7.444159507751465\n",
            "  D loss: 0.002076653763651848\n",
            "\n",
            "14/50, 14.371446620341125\n",
            "  G loss: 8.045635223388672\n",
            "  D loss: 0.016928929835557938\n",
            "\n",
            "14/50, 14.450410612760582\n",
            "  G loss: 11.685752868652344\n",
            "  D loss: 0.0003352135536260903\n",
            "\n"
          ],
          "name": "stdout"
        },
        {
          "output_type": "stream",
          "text": [
            "Clipping input data to the valid range for imshow with RGB data ([0..1] for floats or [0..255] for integers).\n"
          ],
          "name": "stderr"
        },
        {
          "output_type": "display_data",
          "data": {
            "image/png": "[encoded data removed]",
            "text/plain": [
              "<Figure size 432x288 with 1 Axes>"
            ]
          },
          "metadata": {
            "tags": [],
            "needs_background": "light"
          }
        },
        {
          "output_type": "stream",
          "text": [
            "14/50, 14.529374605180038\n",
            "  G loss: 7.708448886871338\n",
            "  D loss: 0.1769687533378601\n",
            "\n",
            "14/50, 14.608338597599495\n",
            "  G loss: 6.016551971435547\n",
            "  D loss: 0.34025248885154724\n",
            "\n",
            "14/50, 14.687302590018952\n",
            "  G loss: 8.408697128295898\n",
            "  D loss: 0.00016320224676746875\n",
            "\n",
            "14/50, 14.766266582438409\n",
            "  G loss: 9.819303512573242\n",
            "  D loss: 0.0010234517976641655\n",
            "\n",
            "14/50, 14.845230574857865\n",
            "  G loss: 13.270960807800293\n",
            "  D loss: 0.09310338646173477\n",
            "\n",
            "14/50, 14.924194567277322\n",
            "  G loss: 7.4353108406066895\n",
            "  D loss: 0.01324293203651905\n",
            "\n"
          ],
          "name": "stdout"
        },
        {
          "output_type": "stream",
          "text": [
            "Clipping input data to the valid range for imshow with RGB data ([0..1] for floats or [0..255] for integers).\n"
          ],
          "name": "stderr"
        },
        {
          "output_type": "display_data",
          "data": {
            "image/png": "[encoded data removed]",
            "text/plain": [
              "<Figure size 432x288 with 1 Axes>"
            ]
          },
          "metadata": {
            "tags": [],
            "needs_background": "light"
          }
        },
        {
          "output_type": "stream",
          "text": [
            "15/50, 15.003158559696779\n",
            "  G loss: 9.82363510131836\n",
            "  D loss: 0.19420869648456573\n",
            "\n",
            "15/50, 15.082122552116235\n",
            "  G loss: 6.864286422729492\n",
            "  D loss: 0.00800216756761074\n",
            "\n",
            "15/50, 15.161086544535692\n",
            "  G loss: 13.586034774780273\n",
            "  D loss: 0.00609938707202673\n",
            "\n",
            "15/50, 15.240050536955149\n",
            "  G loss: 10.430922508239746\n",
            "  D loss: 0.0001362708571832627\n",
            "\n",
            "15/50, 15.319014529374606\n",
            "  G loss: 15.62132453918457\n",
            "  D loss: 0.004571849480271339\n",
            "\n",
            "15/50, 15.397978521794062\n",
            "  G loss: 9.566804885864258\n",
            "  D loss: 0.03210477903485298\n",
            "\n",
            "15/50, 15.476942514213519\n",
            "  G loss: 6.440676689147949\n",
            "  D loss: 0.012565470300614834\n",
            "\n"
          ],
          "name": "stdout"
        },
        {
          "output_type": "stream",
          "text": [
            "Clipping input data to the valid range for imshow with RGB data ([0..1] for floats or [0..255] for integers).\n"
          ],
          "name": "stderr"
        },
        {
          "output_type": "display_data",
          "data": {
            "image/png": "[encoded data removed]",
            "text/plain": [
              "<Figure size 432x288 with 1 Axes>"
            ]
          },
          "metadata": {
            "tags": [],
            "needs_background": "light"
          }
        },
        {
          "output_type": "stream",
          "text": [
            "15/50, 15.555906506632976\n",
            "  G loss: 11.033048629760742\n",
            "  D loss: 0.0014056682121008635\n",
            "\n",
            "15/50, 15.634870499052433\n",
            "  G loss: 8.42860221862793\n",
            "  D loss: 0.0020487525034695864\n",
            "\n",
            "15/50, 15.71383449147189\n",
            "  G loss: 12.22885513305664\n",
            "  D loss: 0.04820656031370163\n",
            "\n",
            "15/50, 15.792798483891346\n",
            "  G loss: 2.6881799697875977\n",
            "  D loss: 3.359376907348633\n",
            "\n",
            "15/50, 15.871762476310803\n",
            "  G loss: 9.852437019348145\n",
            "  D loss: 0.3879503011703491\n",
            "\n",
            "15/50, 15.95072646873026\n",
            "  G loss: 11.221332550048828\n",
            "  D loss: 0.000530090241227299\n",
            "\n"
          ],
          "name": "stdout"
        },
        {
          "output_type": "stream",
          "text": [
            "Clipping input data to the valid range for imshow with RGB data ([0..1] for floats or [0..255] for integers).\n"
          ],
          "name": "stderr"
        },
        {
          "output_type": "display_data",
          "data": {
            "image/png": "[encoded data removed]",
            "text/plain": [
              "<Figure size 432x288 with 1 Axes>"
            ]
          },
          "metadata": {
            "tags": [],
            "needs_background": "light"
          }
        },
        {
          "output_type": "stream",
          "text": [
            "16/50, 16.029690461149716\n",
            "  G loss: 6.474050998687744\n",
            "  D loss: 0.1912122368812561\n",
            "\n",
            "16/50, 16.108654453569173\n",
            "  G loss: 21.581260681152344\n",
            "  D loss: 0.09652698785066605\n",
            "\n",
            "16/50, 16.18761844598863\n",
            "  G loss: 9.348348617553711\n",
            "  D loss: 0.034027762711048126\n",
            "\n",
            "16/50, 16.266582438408086\n",
            "  G loss: 9.619024276733398\n",
            "  D loss: 0.003902868600562215\n",
            "\n",
            "16/50, 16.345546430827543\n",
            "  G loss: 5.136486530303955\n",
            "  D loss: 0.1028236523270607\n",
            "\n",
            "16/50, 16.424510423247\n",
            "  G loss: 7.890712738037109\n",
            "  D loss: 0.002743832767009735\n",
            "\n"
          ],
          "name": "stdout"
        },
        {
          "output_type": "stream",
          "text": [
            "Clipping input data to the valid range for imshow with RGB data ([0..1] for floats or [0..255] for integers).\n"
          ],
          "name": "stderr"
        },
        {
          "output_type": "display_data",
          "data": {
            "image/png": "[encoded data removed]",
            "text/plain": [
              "<Figure size 432x288 with 1 Axes>"
            ]
          },
          "metadata": {
            "tags": [],
            "needs_background": "light"
          }
        },
        {
          "output_type": "stream",
          "text": [
            "16/50, 16.503474415666457\n",
            "  G loss: 5.640378952026367\n",
            "  D loss: 0.08322826027870178\n",
            "\n",
            "16/50, 16.582438408085913\n",
            "  G loss: 7.914643287658691\n",
            "  D loss: 0.02395911142230034\n",
            "\n",
            "16/50, 16.66140240050537\n",
            "  G loss: 6.275636672973633\n",
            "  D loss: 0.025547685101628304\n",
            "\n",
            "16/50, 16.740366392924827\n",
            "  G loss: 12.081501960754395\n",
            "  D loss: 0.009620931930840015\n",
            "\n",
            "16/50, 16.819330385344283\n",
            "  G loss: 11.322349548339844\n",
            "  D loss: 0.38476842641830444\n",
            "\n",
            "16/50, 16.89829437776374\n",
            "  G loss: 9.63158130645752\n",
            "  D loss: 0.00121901067905128\n",
            "\n",
            "16/50, 16.977258370183197\n",
            "  G loss: 5.699410915374756\n",
            "  D loss: 0.005344674922525883\n",
            "\n"
          ],
          "name": "stdout"
        },
        {
          "output_type": "stream",
          "text": [
            "Clipping input data to the valid range for imshow with RGB data ([0..1] for floats or [0..255] for integers).\n"
          ],
          "name": "stderr"
        },
        {
          "output_type": "display_data",
          "data": {
            "image/png": "[encoded data removed]",
            "text/plain": [
              "<Figure size 432x288 with 1 Axes>"
            ]
          },
          "metadata": {
            "tags": [],
            "needs_background": "light"
          }
        },
        {
          "output_type": "stream",
          "text": [
            "17/50, 17.056222362602654\n",
            "  G loss: 9.284627914428711\n",
            "  D loss: 0.018706507980823517\n",
            "\n",
            "17/50, 17.13518635502211\n",
            "  G loss: 11.746184349060059\n",
            "  D loss: 0.0010347520001232624\n",
            "\n",
            "17/50, 17.214150347441567\n",
            "  G loss: 6.200217247009277\n",
            "  D loss: 0.015686629340052605\n",
            "\n",
            "17/50, 17.293114339861024\n",
            "  G loss: 8.28579330444336\n",
            "  D loss: 1.5650770664215088\n",
            "\n",
            "17/50, 17.37207833228048\n",
            "  G loss: 9.86042594909668\n",
            "  D loss: 0.0014283545315265656\n",
            "\n",
            "17/50, 17.451042324699937\n",
            "  G loss: 12.284772872924805\n",
            "  D loss: 0.0001867133833002299\n",
            "\n"
          ],
          "name": "stdout"
        },
        {
          "output_type": "stream",
          "text": [
            "Clipping input data to the valid range for imshow with RGB data ([0..1] for floats or [0..255] for integers).\n"
          ],
          "name": "stderr"
        },
        {
          "output_type": "display_data",
          "data": {
            "image/png": "[encoded data removed]",
            "text/plain": [
              "<Figure size 432x288 with 1 Axes>"
            ]
          },
          "metadata": {
            "tags": [],
            "needs_background": "light"
          }
        },
        {
          "output_type": "stream",
          "text": [
            "17/50, 17.530006317119394\n",
            "  G loss: 13.257621765136719\n",
            "  D loss: 0.10234594345092773\n",
            "\n",
            "17/50, 17.60897030953885\n",
            "  G loss: 7.437547206878662\n",
            "  D loss: 0.09534458816051483\n",
            "\n",
            "17/50, 17.687934301958308\n",
            "  G loss: 8.29102897644043\n",
            "  D loss: 0.2838341295719147\n",
            "\n",
            "17/50, 17.766898294377764\n",
            "  G loss: 11.335014343261719\n",
            "  D loss: 0.0027037847321480513\n",
            "\n",
            "17/50, 17.84586228679722\n",
            "  G loss: 17.746776580810547\n",
            "  D loss: 0.4222009479999542\n",
            "\n",
            "17/50, 17.924826279216678\n",
            "  G loss: 6.926185131072998\n",
            "  D loss: 0.006357952952384949\n",
            "\n"
          ],
          "name": "stdout"
        },
        {
          "output_type": "stream",
          "text": [
            "Clipping input data to the valid range for imshow with RGB data ([0..1] for floats or [0..255] for integers).\n"
          ],
          "name": "stderr"
        },
        {
          "output_type": "display_data",
          "data": {
            "image/png": "[encoded data removed]",
            "text/plain": [
              "<Figure size 432x288 with 1 Axes>"
            ]
          },
          "metadata": {
            "tags": [],
            "needs_background": "light"
          }
        },
        {
          "output_type": "stream",
          "text": [
            "18/50, 18.003790271636134\n",
            "  G loss: 3.9997851848602295\n",
            "  D loss: 0.09278294444084167\n",
            "\n",
            "18/50, 18.08275426405559\n",
            "  G loss: 11.219831466674805\n",
            "  D loss: 8.95703851711005e-05\n",
            "\n",
            "18/50, 18.161718256475048\n",
            "  G loss: 12.491250991821289\n",
            "  D loss: 0.00015332348993979394\n",
            "\n",
            "18/50, 18.240682248894505\n",
            "  G loss: 11.452133178710938\n",
            "  D loss: 0.019760489463806152\n",
            "\n",
            "18/50, 18.31964624131396\n",
            "  G loss: 17.34981918334961\n",
            "  D loss: 0.0015783386770635843\n",
            "\n",
            "18/50, 18.398610233733418\n",
            "  G loss: 9.224300384521484\n",
            "  D loss: 0.0009781226981431246\n",
            "\n",
            "18/50, 18.477574226152875\n",
            "  G loss: 8.074420928955078\n",
            "  D loss: 0.018538717180490494\n",
            "\n"
          ],
          "name": "stdout"
        },
        {
          "output_type": "stream",
          "text": [
            "Clipping input data to the valid range for imshow with RGB data ([0..1] for floats or [0..255] for integers).\n"
          ],
          "name": "stderr"
        },
        {
          "output_type": "display_data",
          "data": {
            "image/png": "[encoded data removed]",
            "text/plain": [
              "<Figure size 432x288 with 1 Axes>"
            ]
          },
          "metadata": {
            "tags": [],
            "needs_background": "light"
          }
        },
        {
          "output_type": "stream",
          "text": [
            "18/50, 18.55653821857233\n",
            "  G loss: 7.838092803955078\n",
            "  D loss: 0.030771683901548386\n",
            "\n",
            "18/50, 18.63550221099179\n",
            "  G loss: 6.544891357421875\n",
            "  D loss: 0.018460432067513466\n",
            "\n",
            "18/50, 18.714466203411245\n",
            "  G loss: 11.55656623840332\n",
            "  D loss: 0.0025911249686032534\n",
            "\n",
            "18/50, 18.7934301958307\n",
            "  G loss: 9.405496597290039\n",
            "  D loss: 0.0059914374724030495\n",
            "\n",
            "18/50, 18.87239418825016\n",
            "  G loss: 11.984723091125488\n",
            "  D loss: 0.018974512815475464\n",
            "\n",
            "18/50, 18.951358180669615\n",
            "  G loss: 16.626327514648438\n",
            "  D loss: 3.2346964871976525e-05\n",
            "\n"
          ],
          "name": "stdout"
        },
        {
          "output_type": "stream",
          "text": [
            "Clipping input data to the valid range for imshow with RGB data ([0..1] for floats or [0..255] for integers).\n"
          ],
          "name": "stderr"
        },
        {
          "output_type": "display_data",
          "data": {
            "image/png": "[encoded data removed]",
            "text/plain": [
              "<Figure size 432x288 with 1 Axes>"
            ]
          },
          "metadata": {
            "tags": [],
            "needs_background": "light"
          }
        },
        {
          "output_type": "stream",
          "text": [
            "19/50, 19.030322173089072\n",
            "  G loss: 12.977348327636719\n",
            "  D loss: 2.1265288523864e-05\n",
            "\n",
            "19/50, 19.10928616550853\n",
            "  G loss: 11.689300537109375\n",
            "  D loss: 0.009027102030813694\n",
            "\n",
            "19/50, 19.188250157927985\n",
            "  G loss: 10.881763458251953\n",
            "  D loss: 0.0011956902453675866\n",
            "\n",
            "19/50, 19.267214150347442\n",
            "  G loss: 13.53321647644043\n",
            "  D loss: 2.9467286367435008e-05\n",
            "\n",
            "19/50, 19.3461781427669\n",
            "  G loss: 7.672662258148193\n",
            "  D loss: 0.013148700818419456\n",
            "\n",
            "19/50, 19.425142135186356\n",
            "  G loss: 8.884588241577148\n",
            "  D loss: 0.029019679874181747\n",
            "\n"
          ],
          "name": "stdout"
        },
        {
          "output_type": "stream",
          "text": [
            "Clipping input data to the valid range for imshow with RGB data ([0..1] for floats or [0..255] for integers).\n"
          ],
          "name": "stderr"
        },
        {
          "output_type": "display_data",
          "data": {
            "image/png": "[encoded data removed]",
            "text/plain": [
              "<Figure size 432x288 with 1 Axes>"
            ]
          },
          "metadata": {
            "tags": [],
            "needs_background": "light"
          }
        },
        {
          "output_type": "stream",
          "text": [
            "19/50, 19.504106127605812\n",
            "  G loss: 9.52029037475586\n",
            "  D loss: 0.00237369816750288\n",
            "\n",
            "19/50, 19.58307012002527\n",
            "  G loss: 8.961522102355957\n",
            "  D loss: 0.01352914609014988\n",
            "\n",
            "19/50, 19.662034112444726\n",
            "  G loss: 8.504194259643555\n",
            "  D loss: 0.0011500980472192168\n",
            "\n",
            "19/50, 19.740998104864182\n",
            "  G loss: 8.11121940612793\n",
            "  D loss: 0.007246782071888447\n",
            "\n",
            "19/50, 19.81996209728364\n",
            "  G loss: 6.914320945739746\n",
            "  D loss: 0.008616754785180092\n",
            "\n",
            "19/50, 19.898926089703096\n",
            "  G loss: 13.529858589172363\n",
            "  D loss: 0.0009552441188134253\n",
            "\n",
            "19/50, 19.977890082122553\n",
            "  G loss: 1.766930341720581\n",
            "  D loss: 5.056312561035156\n",
            "\n"
          ],
          "name": "stdout"
        },
        {
          "output_type": "stream",
          "text": [
            "Clipping input data to the valid range for imshow with RGB data ([0..1] for floats or [0..255] for integers).\n"
          ],
          "name": "stderr"
        },
        {
          "output_type": "display_data",
          "data": {
            "image/png": "[encoded data removed]",
            "text/plain": [
              "<Figure size 432x288 with 1 Axes>"
            ]
          },
          "metadata": {
            "tags": [],
            "needs_background": "light"
          }
        },
        {
          "output_type": "stream",
          "text": [
            "20/50, 20.05685407454201\n",
            "  G loss: 7.3130998611450195\n",
            "  D loss: 0.017780866473913193\n",
            "\n",
            "20/50, 20.135818066961466\n",
            "  G loss: 12.029006004333496\n",
            "  D loss: 1.4640486240386963\n",
            "\n",
            "20/50, 20.214782059380923\n",
            "  G loss: 10.998570442199707\n",
            "  D loss: 0.1293422430753708\n",
            "\n",
            "20/50, 20.29374605180038\n",
            "  G loss: 4.817894458770752\n",
            "  D loss: 0.2807840406894684\n",
            "\n",
            "20/50, 20.372710044219836\n",
            "  G loss: 11.194499969482422\n",
            "  D loss: 0.011190011166036129\n",
            "\n",
            "20/50, 20.451674036639293\n",
            "  G loss: 4.69502592086792\n",
            "  D loss: 0.14008308947086334\n",
            "\n"
          ],
          "name": "stdout"
        },
        {
          "output_type": "stream",
          "text": [
            "Clipping input data to the valid range for imshow with RGB data ([0..1] for floats or [0..255] for integers).\n"
          ],
          "name": "stderr"
        },
        {
          "output_type": "display_data",
          "data": {
            "image/png": "[encoded data removed]",
            "text/plain": [
              "<Figure size 432x288 with 1 Axes>"
            ]
          },
          "metadata": {
            "tags": [],
            "needs_background": "light"
          }
        },
        {
          "output_type": "stream",
          "text": [
            "20/50, 20.53063802905875\n",
            "  G loss: 5.9167938232421875\n",
            "  D loss: 0.5516486763954163\n",
            "\n",
            "20/50, 20.609602021478207\n",
            "  G loss: 9.32458782196045\n",
            "  D loss: 0.07922561466693878\n",
            "\n",
            "20/50, 20.688566013897663\n",
            "  G loss: 11.1746244430542\n",
            "  D loss: 0.0020519352983683348\n",
            "\n",
            "20/50, 20.76753000631712\n",
            "  G loss: 7.689516544342041\n",
            "  D loss: 0.007825634442269802\n",
            "\n",
            "20/50, 20.846493998736577\n",
            "  G loss: 8.811823844909668\n",
            "  D loss: 0.0006338841049000621\n",
            "\n",
            "20/50, 20.925457991156033\n",
            "  G loss: 5.54196834564209\n",
            "  D loss: 0.19917047023773193\n",
            "\n"
          ],
          "name": "stdout"
        },
        {
          "output_type": "stream",
          "text": [
            "Clipping input data to the valid range for imshow with RGB data ([0..1] for floats or [0..255] for integers).\n"
          ],
          "name": "stderr"
        },
        {
          "output_type": "display_data",
          "data": {
            "image/png": "[encoded data removed]",
            "text/plain": [
              "<Figure size 432x288 with 1 Axes>"
            ]
          },
          "metadata": {
            "tags": [],
            "needs_background": "light"
          }
        },
        {
          "output_type": "stream",
          "text": [
            "21/50, 21.00442198357549\n",
            "  G loss: 6.193960189819336\n",
            "  D loss: 0.22335070371627808\n",
            "\n",
            "21/50, 21.083385975994947\n",
            "  G loss: 1.791375994682312\n",
            "  D loss: 0.1442975550889969\n",
            "\n",
            "21/50, 21.162349968414404\n",
            "  G loss: 9.063772201538086\n",
            "  D loss: 0.06738514453172684\n",
            "\n",
            "21/50, 21.24131396083386\n",
            "  G loss: 11.695219993591309\n",
            "  D loss: 0.00011060758697567508\n",
            "\n",
            "21/50, 21.320277953253317\n",
            "  G loss: 8.31704044342041\n",
            "  D loss: 0.00647619366645813\n",
            "\n",
            "21/50, 21.399241945672774\n",
            "  G loss: 12.385372161865234\n",
            "  D loss: 0.011669386178255081\n",
            "\n",
            "21/50, 21.47820593809223\n",
            "  G loss: 9.609193801879883\n",
            "  D loss: 0.01978696510195732\n",
            "\n"
          ],
          "name": "stdout"
        },
        {
          "output_type": "stream",
          "text": [
            "Clipping input data to the valid range for imshow with RGB data ([0..1] for floats or [0..255] for integers).\n"
          ],
          "name": "stderr"
        },
        {
          "output_type": "display_data",
          "data": {
            "image/png": "[encoded data removed]",
            "text/plain": [
              "<Figure size 432x288 with 1 Axes>"
            ]
          },
          "metadata": {
            "tags": [],
            "needs_background": "light"
          }
        },
        {
          "output_type": "stream",
          "text": [
            "21/50, 21.557169930511687\n",
            "  G loss: 9.437052726745605\n",
            "  D loss: 0.004237739834934473\n",
            "\n",
            "21/50, 21.636133922931144\n",
            "  G loss: 7.082612037658691\n",
            "  D loss: 0.004591113887727261\n",
            "\n",
            "21/50, 21.7150979153506\n",
            "  G loss: 10.52724838256836\n",
            "  D loss: 0.0003731428296305239\n",
            "\n",
            "21/50, 21.794061907770057\n",
            "  G loss: 9.235079765319824\n",
            "  D loss: 0.09474249184131622\n",
            "\n",
            "21/50, 21.873025900189514\n",
            "  G loss: 7.595247268676758\n",
            "  D loss: 0.031313955783843994\n",
            "\n",
            "21/50, 21.95198989260897\n",
            "  G loss: 3.7792534828186035\n",
            "  D loss: 0.21963994204998016\n",
            "\n"
          ],
          "name": "stdout"
        },
        {
          "output_type": "stream",
          "text": [
            "Clipping input data to the valid range for imshow with RGB data ([0..1] for floats or [0..255] for integers).\n"
          ],
          "name": "stderr"
        },
        {
          "output_type": "display_data",
          "data": {
            "image/png": "[encoded data removed]",
            "text/plain": [
              "<Figure size 432x288 with 1 Axes>"
            ]
          },
          "metadata": {
            "tags": [],
            "needs_background": "light"
          }
        },
        {
          "output_type": "stream",
          "text": [
            "22/50, 22.030953885028428\n",
            "  G loss: 15.016595840454102\n",
            "  D loss: 0.040461573749780655\n",
            "\n",
            "22/50, 22.109917877447884\n",
            "  G loss: 10.113197326660156\n",
            "  D loss: 0.0004631778283510357\n",
            "\n",
            "22/50, 22.18888186986734\n",
            "  G loss: 9.344656944274902\n",
            "  D loss: 0.001363714225590229\n",
            "\n",
            "22/50, 22.267845862286798\n",
            "  G loss: 11.40467643737793\n",
            "  D loss: 0.004636503290385008\n",
            "\n",
            "22/50, 22.346809854706255\n",
            "  G loss: 9.214677810668945\n",
            "  D loss: 0.17141193151474\n",
            "\n",
            "22/50, 22.42577384712571\n",
            "  G loss: 8.32618522644043\n",
            "  D loss: 0.163640558719635\n",
            "\n"
          ],
          "name": "stdout"
        },
        {
          "output_type": "stream",
          "text": [
            "Clipping input data to the valid range for imshow with RGB data ([0..1] for floats or [0..255] for integers).\n"
          ],
          "name": "stderr"
        },
        {
          "output_type": "display_data",
          "data": {
            "image/png": "[encoded data removed]",
            "text/plain": [
              "<Figure size 432x288 with 1 Axes>"
            ]
          },
          "metadata": {
            "tags": [],
            "needs_background": "light"
          }
        },
        {
          "output_type": "stream",
          "text": [
            "22/50, 22.504737839545168\n",
            "  G loss: 9.789182662963867\n",
            "  D loss: 0.08173651993274689\n",
            "\n",
            "22/50, 22.583701831964625\n",
            "  G loss: 6.758160591125488\n",
            "  D loss: 0.009779169224202633\n",
            "\n",
            "22/50, 22.66266582438408\n",
            "  G loss: 12.849187850952148\n",
            "  D loss: 0.0005046525620855391\n",
            "\n",
            "22/50, 22.74162981680354\n",
            "  G loss: 7.54640007019043\n",
            "  D loss: 0.0030478741973638535\n",
            "\n",
            "22/50, 22.820593809222995\n",
            "  G loss: 17.236072540283203\n",
            "  D loss: 0.45052212476730347\n",
            "\n",
            "22/50, 22.89955780164245\n",
            "  G loss: 11.381555557250977\n",
            "  D loss: 0.0020157299004495144\n",
            "\n",
            "22/50, 22.97852179406191\n",
            "  G loss: 5.525467872619629\n",
            "  D loss: 0.22719016671180725\n",
            "\n"
          ],
          "name": "stdout"
        },
        {
          "output_type": "stream",
          "text": [
            "Clipping input data to the valid range for imshow with RGB data ([0..1] for floats or [0..255] for integers).\n"
          ],
          "name": "stderr"
        },
        {
          "output_type": "display_data",
          "data": {
            "image/png": "[encoded data removed]",
            "text/plain": [
              "<Figure size 432x288 with 1 Axes>"
            ]
          },
          "metadata": {
            "tags": [],
            "needs_background": "light"
          }
        },
        {
          "output_type": "stream",
          "text": [
            "23/50, 23.057485786481365\n",
            "  G loss: 14.061009407043457\n",
            "  D loss: 0.005937449634075165\n",
            "\n",
            "23/50, 23.136449778900822\n",
            "  G loss: 11.527536392211914\n",
            "  D loss: 0.013435812667012215\n",
            "\n",
            "23/50, 23.21541377132028\n",
            "  G loss: 12.668623924255371\n",
            "  D loss: 0.005177685525268316\n",
            "\n",
            "23/50, 23.294377763739735\n",
            "  G loss: 6.971026420593262\n",
            "  D loss: 0.01881624385714531\n",
            "\n",
            "23/50, 23.373341756159192\n",
            "  G loss: 9.73964786529541\n",
            "  D loss: 0.0890904888510704\n",
            "\n",
            "23/50, 23.45230574857865\n",
            "  G loss: 13.73736572265625\n",
            "  D loss: 0.0017747207311913371\n",
            "\n"
          ],
          "name": "stdout"
        },
        {
          "output_type": "stream",
          "text": [
            "Clipping input data to the valid range for imshow with RGB data ([0..1] for floats or [0..255] for integers).\n"
          ],
          "name": "stderr"
        },
        {
          "output_type": "display_data",
          "data": {
            "image/png": "[encoded data removed]",
            "text/plain": [
              "<Figure size 432x288 with 1 Axes>"
            ]
          },
          "metadata": {
            "tags": [],
            "needs_background": "light"
          }
        },
        {
          "output_type": "stream",
          "text": [
            "23/50, 23.531269740998106\n",
            "  G loss: 10.498007774353027\n",
            "  D loss: 0.01194727048277855\n",
            "\n",
            "23/50, 23.610233733417562\n",
            "  G loss: 12.181283950805664\n",
            "  D loss: 0.004641236737370491\n",
            "\n",
            "23/50, 23.68919772583702\n",
            "  G loss: 7.091274261474609\n",
            "  D loss: 0.004595216363668442\n",
            "\n",
            "23/50, 23.768161718256476\n",
            "  G loss: 7.292500972747803\n",
            "  D loss: 0.14365838468074799\n",
            "\n",
            "23/50, 23.847125710675932\n",
            "  G loss: 9.76485824584961\n",
            "  D loss: 0.0019648608285933733\n",
            "\n",
            "23/50, 23.92608970309539\n",
            "  G loss: 13.295633316040039\n",
            "  D loss: 0.20090828835964203\n",
            "\n"
          ],
          "name": "stdout"
        },
        {
          "output_type": "stream",
          "text": [
            "Clipping input data to the valid range for imshow with RGB data ([0..1] for floats or [0..255] for integers).\n"
          ],
          "name": "stderr"
        },
        {
          "output_type": "display_data",
          "data": {
            "image/png": "[encoded data removed]",
            "text/plain": [
              "<Figure size 432x288 with 1 Axes>"
            ]
          },
          "metadata": {
            "tags": [],
            "needs_background": "light"
          }
        },
        {
          "output_type": "stream",
          "text": [
            "24/50, 24.005053695514846\n",
            "  G loss: 12.139274597167969\n",
            "  D loss: 7.196253136498854e-05\n",
            "\n",
            "24/50, 24.084017687934303\n",
            "  G loss: 11.991720199584961\n",
            "  D loss: 0.01254340261220932\n",
            "\n",
            "24/50, 24.16298168035376\n",
            "  G loss: 12.184564590454102\n",
            "  D loss: 0.002560189925134182\n",
            "\n",
            "24/50, 24.241945672773216\n",
            "  G loss: 9.487468719482422\n",
            "  D loss: 0.03400453180074692\n",
            "\n",
            "24/50, 24.320909665192673\n",
            "  G loss: 5.882603168487549\n",
            "  D loss: 0.022896697744727135\n",
            "\n",
            "24/50, 24.39987365761213\n",
            "  G loss: 5.962763786315918\n",
            "  D loss: 0.13064244389533997\n",
            "\n",
            "24/50, 24.478837650031586\n",
            "  G loss: 3.957418203353882\n",
            "  D loss: 0.3210829794406891\n",
            "\n"
          ],
          "name": "stdout"
        },
        {
          "output_type": "stream",
          "text": [
            "Clipping input data to the valid range for imshow with RGB data ([0..1] for floats or [0..255] for integers).\n"
          ],
          "name": "stderr"
        },
        {
          "output_type": "display_data",
          "data": {
            "image/png": "[encoded data removed]",
            "text/plain": [
              "<Figure size 432x288 with 1 Axes>"
            ]
          },
          "metadata": {
            "tags": [],
            "needs_background": "light"
          }
        },
        {
          "output_type": "stream",
          "text": [
            "24/50, 24.557801642451043\n",
            "  G loss: 7.241081237792969\n",
            "  D loss: 0.004800194408744574\n",
            "\n",
            "24/50, 24.6367656348705\n",
            "  G loss: 9.108736038208008\n",
            "  D loss: 0.02867848426103592\n",
            "\n",
            "24/50, 24.715729627289956\n",
            "  G loss: 9.20518684387207\n",
            "  D loss: 0.12250983715057373\n",
            "\n",
            "24/50, 24.794693619709413\n",
            "  G loss: 4.600123405456543\n",
            "  D loss: 0.08994242548942566\n",
            "\n",
            "24/50, 24.87365761212887\n",
            "  G loss: 8.068845748901367\n",
            "  D loss: 0.18635611236095428\n",
            "\n",
            "24/50, 24.952621604548327\n",
            "  G loss: 9.239717483520508\n",
            "  D loss: 0.031843479722738266\n",
            "\n"
          ],
          "name": "stdout"
        },
        {
          "output_type": "stream",
          "text": [
            "Clipping input data to the valid range for imshow with RGB data ([0..1] for floats or [0..255] for integers).\n"
          ],
          "name": "stderr"
        },
        {
          "output_type": "display_data",
          "data": {
            "image/png": "[encoded data removed]",
            "text/plain": [
              "<Figure size 432x288 with 1 Axes>"
            ]
          },
          "metadata": {
            "tags": [],
            "needs_background": "light"
          }
        },
        {
          "output_type": "stream",
          "text": [
            "25/50, 25.031585596967783\n",
            "  G loss: 8.933433532714844\n",
            "  D loss: 0.02035195380449295\n",
            "\n",
            "25/50, 25.11054958938724\n",
            "  G loss: 6.5396013259887695\n",
            "  D loss: 0.012477988377213478\n",
            "\n",
            "25/50, 25.189513581806697\n",
            "  G loss: 10.066877365112305\n",
            "  D loss: 0.0020114583894610405\n",
            "\n",
            "25/50, 25.268477574226154\n",
            "  G loss: 8.09184455871582\n",
            "  D loss: 0.25673577189445496\n",
            "\n",
            "25/50, 25.34744156664561\n",
            "  G loss: 4.376614093780518\n",
            "  D loss: 0.3775688409805298\n",
            "\n",
            "25/50, 25.426405559065067\n",
            "  G loss: 13.049535751342773\n",
            "  D loss: 0.04805774986743927\n",
            "\n"
          ],
          "name": "stdout"
        },
        {
          "output_type": "stream",
          "text": [
            "Clipping input data to the valid range for imshow with RGB data ([0..1] for floats or [0..255] for integers).\n"
          ],
          "name": "stderr"
        },
        {
          "output_type": "display_data",
          "data": {
            "image/png": "[encoded data removed]",
            "text/plain": [
              "<Figure size 432x288 with 1 Axes>"
            ]
          },
          "metadata": {
            "tags": [],
            "needs_background": "light"
          }
        },
        {
          "output_type": "stream",
          "text": [
            "25/50, 25.505369551484524\n",
            "  G loss: 5.203333854675293\n",
            "  D loss: 0.10845243185758591\n",
            "\n",
            "25/50, 25.58433354390398\n",
            "  G loss: 9.589099884033203\n",
            "  D loss: 0.016016418114304543\n",
            "\n",
            "25/50, 25.663297536323437\n",
            "  G loss: 8.589399337768555\n",
            "  D loss: 0.013129426166415215\n",
            "\n",
            "25/50, 25.742261528742894\n",
            "  G loss: 12.101032257080078\n",
            "  D loss: 0.00017761331400834024\n",
            "\n",
            "25/50, 25.82122552116235\n",
            "  G loss: 9.362823486328125\n",
            "  D loss: 0.012366109527647495\n",
            "\n",
            "25/50, 25.900189513581807\n",
            "  G loss: 7.851471900939941\n",
            "  D loss: 0.017353177070617676\n",
            "\n",
            "25/50, 25.979153506001264\n",
            "  G loss: 17.78884506225586\n",
            "  D loss: 0.06231572479009628\n",
            "\n"
          ],
          "name": "stdout"
        },
        {
          "output_type": "stream",
          "text": [
            "Clipping input data to the valid range for imshow with RGB data ([0..1] for floats or [0..255] for integers).\n"
          ],
          "name": "stderr"
        },
        {
          "output_type": "display_data",
          "data": {
            "image/png": "[encoded data removed]",
            "text/plain": [
              "<Figure size 432x288 with 1 Axes>"
            ]
          },
          "metadata": {
            "tags": [],
            "needs_background": "light"
          }
        },
        {
          "output_type": "stream",
          "text": [
            "26/50, 26.05811749842072\n",
            "  G loss: 10.052828788757324\n",
            "  D loss: 0.002014098223298788\n",
            "\n",
            "26/50, 26.137081490840178\n",
            "  G loss: 13.373531341552734\n",
            "  D loss: 0.0025924392975866795\n",
            "\n",
            "26/50, 26.216045483259634\n",
            "  G loss: 14.106268882751465\n",
            "  D loss: 5.046691876486875e-05\n",
            "\n",
            "26/50, 26.29500947567909\n",
            "  G loss: 15.510760307312012\n",
            "  D loss: 0.09211108088493347\n",
            "\n",
            "26/50, 26.373973468098548\n",
            "  G loss: 2.818796157836914\n",
            "  D loss: 0.9678104519844055\n",
            "\n",
            "26/50, 26.452937460518005\n",
            "  G loss: 9.992298126220703\n",
            "  D loss: 0.05617193132638931\n",
            "\n"
          ],
          "name": "stdout"
        },
        {
          "output_type": "stream",
          "text": [
            "Clipping input data to the valid range for imshow with RGB data ([0..1] for floats or [0..255] for integers).\n"
          ],
          "name": "stderr"
        },
        {
          "output_type": "display_data",
          "data": {
            "image/png": "[encoded data removed]",
            "text/plain": [
              "<Figure size 432x288 with 1 Axes>"
            ]
          },
          "metadata": {
            "tags": [],
            "needs_background": "light"
          }
        },
        {
          "output_type": "stream",
          "text": [
            "26/50, 26.53190145293746\n",
            "  G loss: 4.094876289367676\n",
            "  D loss: 0.7845257520675659\n",
            "\n",
            "26/50, 26.610865445356918\n",
            "  G loss: 8.069206237792969\n",
            "  D loss: 0.016547083854675293\n",
            "\n",
            "26/50, 26.689829437776375\n",
            "  G loss: 14.280410766601562\n",
            "  D loss: 0.0579511821269989\n",
            "\n",
            "26/50, 26.76879343019583\n",
            "  G loss: 9.350842475891113\n",
            "  D loss: 0.03250788897275925\n",
            "\n",
            "26/50, 26.847757422615288\n",
            "  G loss: 6.237042427062988\n",
            "  D loss: 0.12687605619430542\n",
            "\n",
            "26/50, 26.926721415034745\n",
            "  G loss: 7.822854995727539\n",
            "  D loss: 0.06718664616346359\n",
            "\n"
          ],
          "name": "stdout"
        },
        {
          "output_type": "stream",
          "text": [
            "Clipping input data to the valid range for imshow with RGB data ([0..1] for floats or [0..255] for integers).\n"
          ],
          "name": "stderr"
        },
        {
          "output_type": "display_data",
          "data": {
            "image/png": "[encoded data removed]",
            "text/plain": [
              "<Figure size 432x288 with 1 Axes>"
            ]
          },
          "metadata": {
            "tags": [],
            "needs_background": "light"
          }
        },
        {
          "output_type": "stream",
          "text": [
            "27/50, 27.0056854074542\n",
            "  G loss: 5.547363758087158\n",
            "  D loss: 1.0009253025054932\n",
            "\n",
            "27/50, 27.08464939987366\n",
            "  G loss: 5.766323089599609\n",
            "  D loss: 0.04695186764001846\n",
            "\n",
            "27/50, 27.163613392293115\n",
            "  G loss: 6.552995681762695\n",
            "  D loss: 0.018823083490133286\n",
            "\n",
            "27/50, 27.242577384712572\n",
            "  G loss: 8.111210823059082\n",
            "  D loss: 0.04789552465081215\n",
            "\n",
            "27/50, 27.32154137713203\n",
            "  G loss: 4.3643341064453125\n",
            "  D loss: 0.07690849900245667\n",
            "\n",
            "27/50, 27.400505369551485\n",
            "  G loss: 6.670809745788574\n",
            "  D loss: 0.00741349533200264\n",
            "\n",
            "27/50, 27.479469361970942\n",
            "  G loss: 6.779684066772461\n",
            "  D loss: 0.09036656469106674\n",
            "\n"
          ],
          "name": "stdout"
        },
        {
          "output_type": "stream",
          "text": [
            "Clipping input data to the valid range for imshow with RGB data ([0..1] for floats or [0..255] for integers).\n"
          ],
          "name": "stderr"
        },
        {
          "output_type": "display_data",
          "data": {
            "image/png": "[encoded data removed]",
            "text/plain": [
              "<Figure size 432x288 with 1 Axes>"
            ]
          },
          "metadata": {
            "tags": [],
            "needs_background": "light"
          }
        },
        {
          "output_type": "stream",
          "text": [
            "27/50, 27.5584333543904\n",
            "  G loss: 12.400712966918945\n",
            "  D loss: 0.024512747302651405\n",
            "\n",
            "27/50, 27.637397346809855\n",
            "  G loss: 6.625136375427246\n",
            "  D loss: 0.025039996951818466\n",
            "\n",
            "27/50, 27.716361339229312\n",
            "  G loss: 8.221822738647461\n",
            "  D loss: 0.0334758423268795\n",
            "\n",
            "27/50, 27.79532533164877\n",
            "  G loss: 11.934427261352539\n",
            "  D loss: 0.011673551052808762\n",
            "\n",
            "27/50, 27.874289324068226\n",
            "  G loss: 13.93889331817627\n",
            "  D loss: 0.0002748377446550876\n",
            "\n",
            "27/50, 27.953253316487682\n",
            "  G loss: 8.395426750183105\n",
            "  D loss: 0.04514077678322792\n",
            "\n"
          ],
          "name": "stdout"
        },
        {
          "output_type": "stream",
          "text": [
            "Clipping input data to the valid range for imshow with RGB data ([0..1] for floats or [0..255] for integers).\n"
          ],
          "name": "stderr"
        },
        {
          "output_type": "display_data",
          "data": {
            "image/png": "[encoded data removed]",
            "text/plain": [
              "<Figure size 432x288 with 1 Axes>"
            ]
          },
          "metadata": {
            "tags": [],
            "needs_background": "light"
          }
        },
        {
          "output_type": "stream",
          "text": [
            "28/50, 28.03221730890714\n",
            "  G loss: 12.96827507019043\n",
            "  D loss: 0.0008269184618256986\n",
            "\n",
            "28/50, 28.111181301326596\n",
            "  G loss: 10.038824081420898\n",
            "  D loss: 0.022334497421979904\n",
            "\n",
            "28/50, 28.190145293746053\n",
            "  G loss: 6.456822872161865\n",
            "  D loss: 0.05071314051747322\n",
            "\n",
            "28/50, 28.26910928616551\n",
            "  G loss: 5.794983863830566\n",
            "  D loss: 0.07335621118545532\n",
            "\n",
            "28/50, 28.348073278584966\n",
            "  G loss: 12.912911415100098\n",
            "  D loss: 0.00036343061947263777\n",
            "\n",
            "28/50, 28.427037271004423\n",
            "  G loss: 19.382596969604492\n",
            "  D loss: 7.817167352186516e-05\n",
            "\n"
          ],
          "name": "stdout"
        },
        {
          "output_type": "stream",
          "text": [
            "Clipping input data to the valid range for imshow with RGB data ([0..1] for floats or [0..255] for integers).\n"
          ],
          "name": "stderr"
        },
        {
          "output_type": "display_data",
          "data": {
            "image/png": "[encoded data removed]",
            "text/plain": [
              "<Figure size 432x288 with 1 Axes>"
            ]
          },
          "metadata": {
            "tags": [],
            "needs_background": "light"
          }
        },
        {
          "output_type": "stream",
          "text": [
            "28/50, 28.50600126342388\n",
            "  G loss: 11.894465446472168\n",
            "  D loss: 0.00562739372253418\n",
            "\n",
            "28/50, 28.584965255843336\n",
            "  G loss: 7.844658374786377\n",
            "  D loss: 0.053277213126420975\n",
            "\n",
            "28/50, 28.663929248262793\n",
            "  G loss: 5.174983978271484\n",
            "  D loss: 0.09786232560873032\n",
            "\n",
            "28/50, 28.74289324068225\n",
            "  G loss: 9.51927661895752\n",
            "  D loss: 0.08336562663316727\n",
            "\n",
            "28/50, 28.821857233101706\n",
            "  G loss: 7.6983842849731445\n",
            "  D loss: 0.4593178331851959\n",
            "\n",
            "28/50, 28.900821225521163\n",
            "  G loss: 4.125284194946289\n",
            "  D loss: 0.26322776079177856\n",
            "\n",
            "28/50, 28.97978521794062\n",
            "  G loss: 7.395748138427734\n",
            "  D loss: 0.02029888704419136\n",
            "\n"
          ],
          "name": "stdout"
        },
        {
          "output_type": "stream",
          "text": [
            "Clipping input data to the valid range for imshow with RGB data ([0..1] for floats or [0..255] for integers).\n"
          ],
          "name": "stderr"
        },
        {
          "output_type": "display_data",
          "data": {
            "image/png": "[encoded data removed]",
            "text/plain": [
              "<Figure size 432x288 with 1 Axes>"
            ]
          },
          "metadata": {
            "tags": [],
            "needs_background": "light"
          }
        },
        {
          "output_type": "stream",
          "text": [
            "29/50, 29.058749210360077\n",
            "  G loss: 14.973188400268555\n",
            "  D loss: 0.0767362043261528\n",
            "\n",
            "29/50, 29.137713202779533\n",
            "  G loss: 13.101917266845703\n",
            "  D loss: 0.014039655216038227\n",
            "\n",
            "29/50, 29.21667719519899\n",
            "  G loss: 10.798493385314941\n",
            "  D loss: 0.015176455490291119\n",
            "\n",
            "29/50, 29.295641187618447\n",
            "  G loss: 8.415565490722656\n",
            "  D loss: 0.0033092200756073\n",
            "\n",
            "29/50, 29.374605180037904\n",
            "  G loss: 9.89528751373291\n",
            "  D loss: 0.00512632867321372\n",
            "\n",
            "29/50, 29.45356917245736\n",
            "  G loss: 16.95911407470703\n",
            "  D loss: 0.010167967528104782\n",
            "\n"
          ],
          "name": "stdout"
        },
        {
          "output_type": "stream",
          "text": [
            "Clipping input data to the valid range for imshow with RGB data ([0..1] for floats or [0..255] for integers).\n"
          ],
          "name": "stderr"
        },
        {
          "output_type": "display_data",
          "data": {
            "image/png": "[encoded data removed]",
            "text/plain": [
              "<Figure size 432x288 with 1 Axes>"
            ]
          },
          "metadata": {
            "tags": [],
            "needs_background": "light"
          }
        },
        {
          "output_type": "stream",
          "text": [
            "29/50, 29.532533164876817\n",
            "  G loss: 6.696882724761963\n",
            "  D loss: 0.01652286946773529\n",
            "\n",
            "29/50, 29.611497157296274\n",
            "  G loss: 4.663628578186035\n",
            "  D loss: 0.602017879486084\n",
            "\n",
            "29/50, 29.69046114971573\n",
            "  G loss: 5.345325469970703\n",
            "  D loss: 0.0781530886888504\n",
            "\n",
            "29/50, 29.769425142135187\n",
            "  G loss: 16.945711135864258\n",
            "  D loss: 0.33931824564933777\n",
            "\n",
            "29/50, 29.848389134554644\n",
            "  G loss: 13.137001037597656\n",
            "  D loss: 0.0013446740340441465\n",
            "\n",
            "29/50, 29.9273531269741\n",
            "  G loss: 4.543106555938721\n",
            "  D loss: 0.27770861983299255\n",
            "\n"
          ],
          "name": "stdout"
        },
        {
          "output_type": "stream",
          "text": [
            "Clipping input data to the valid range for imshow with RGB data ([0..1] for floats or [0..255] for integers).\n"
          ],
          "name": "stderr"
        },
        {
          "output_type": "display_data",
          "data": {
            "image/png": "[encoded data removed]",
            "text/plain": [
              "<Figure size 432x288 with 1 Axes>"
            ]
          },
          "metadata": {
            "tags": [],
            "needs_background": "light"
          }
        },
        {
          "output_type": "stream",
          "text": [
            "30/50, 30.006317119393557\n",
            "  G loss: 10.070150375366211\n",
            "  D loss: 0.007021523546427488\n",
            "\n",
            "30/50, 30.085281111813014\n",
            "  G loss: 13.127037048339844\n",
            "  D loss: 0.0019691039342433214\n",
            "\n",
            "30/50, 30.16424510423247\n",
            "  G loss: 14.553359031677246\n",
            "  D loss: 4.905747118755244e-05\n",
            "\n",
            "30/50, 30.243209096651928\n",
            "  G loss: 9.226543426513672\n",
            "  D loss: 0.00428381422534585\n",
            "\n",
            "30/50, 30.322173089071384\n",
            "  G loss: 6.826704025268555\n",
            "  D loss: 0.055014126002788544\n",
            "\n",
            "30/50, 30.40113708149084\n",
            "  G loss: 4.78593635559082\n",
            "  D loss: 0.06925053149461746\n",
            "\n",
            "30/50, 30.480101073910298\n",
            "  G loss: 11.683008193969727\n",
            "  D loss: 0.00022598690702579916\n",
            "\n"
          ],
          "name": "stdout"
        },
        {
          "output_type": "stream",
          "text": [
            "Clipping input data to the valid range for imshow with RGB data ([0..1] for floats or [0..255] for integers).\n"
          ],
          "name": "stderr"
        },
        {
          "output_type": "display_data",
          "data": {
            "image/png": "[encoded data removed]",
            "text/plain": [
              "<Figure size 432x288 with 1 Axes>"
            ]
          },
          "metadata": {
            "tags": [],
            "needs_background": "light"
          }
        },
        {
          "output_type": "stream",
          "text": [
            "30/50, 30.559065066329755\n",
            "  G loss: 6.227977752685547\n",
            "  D loss: 0.1829659640789032\n",
            "\n",
            "30/50, 30.63802905874921\n",
            "  G loss: 7.134471416473389\n",
            "  D loss: 0.02974454127252102\n",
            "\n",
            "30/50, 30.716993051168668\n",
            "  G loss: 7.920902252197266\n",
            "  D loss: 0.05073092132806778\n",
            "\n",
            "30/50, 30.795957043588125\n",
            "  G loss: 6.396603584289551\n",
            "  D loss: 0.019807808101177216\n",
            "\n",
            "30/50, 30.87492103600758\n",
            "  G loss: 13.46375560760498\n",
            "  D loss: 0.0006570095429196954\n",
            "\n",
            "30/50, 30.953885028427038\n",
            "  G loss: 7.804150104522705\n",
            "  D loss: 0.008314469829201698\n",
            "\n"
          ],
          "name": "stdout"
        },
        {
          "output_type": "stream",
          "text": [
            "Clipping input data to the valid range for imshow with RGB data ([0..1] for floats or [0..255] for integers).\n"
          ],
          "name": "stderr"
        },
        {
          "output_type": "display_data",
          "data": {
            "image/png": "[encoded data removed]",
            "text/plain": [
              "<Figure size 432x288 with 1 Axes>"
            ]
          },
          "metadata": {
            "tags": [],
            "needs_background": "light"
          }
        },
        {
          "output_type": "stream",
          "text": [
            "31/50, 31.032849020846495\n",
            "  G loss: 8.857707977294922\n",
            "  D loss: 0.022935157641768456\n",
            "\n",
            "31/50, 31.11181301326595\n",
            "  G loss: 10.112081527709961\n",
            "  D loss: 0.000996565562672913\n",
            "\n",
            "31/50, 31.19077700568541\n",
            "  G loss: 9.790580749511719\n",
            "  D loss: 0.09998852014541626\n",
            "\n",
            "31/50, 31.269740998104865\n",
            "  G loss: 7.973043441772461\n",
            "  D loss: 0.561581552028656\n",
            "\n",
            "31/50, 31.348704990524322\n",
            "  G loss: 11.881146430969238\n",
            "  D loss: 0.027163006365299225\n",
            "\n",
            "31/50, 31.42766898294378\n",
            "  G loss: 11.890396118164062\n",
            "  D loss: 0.004059283062815666\n",
            "\n"
          ],
          "name": "stdout"
        },
        {
          "output_type": "stream",
          "text": [
            "Clipping input data to the valid range for imshow with RGB data ([0..1] for floats or [0..255] for integers).\n"
          ],
          "name": "stderr"
        },
        {
          "output_type": "display_data",
          "data": {
            "image/png": "[encoded data removed]",
            "text/plain": [
              "<Figure size 432x288 with 1 Axes>"
            ]
          },
          "metadata": {
            "tags": [],
            "needs_background": "light"
          }
        },
        {
          "output_type": "stream",
          "text": [
            "31/50, 31.506632975363235\n",
            "  G loss: 10.956756591796875\n",
            "  D loss: 0.001987860072404146\n",
            "\n",
            "31/50, 31.585596967782692\n",
            "  G loss: 11.728334426879883\n",
            "  D loss: 0.0024021368008106947\n",
            "\n",
            "31/50, 31.66456096020215\n",
            "  G loss: 8.564239501953125\n",
            "  D loss: 0.0055110864341259\n",
            "\n",
            "31/50, 31.743524952621605\n",
            "  G loss: 8.11638069152832\n",
            "  D loss: 0.024385731667280197\n",
            "\n",
            "31/50, 31.822488945041062\n",
            "  G loss: 11.381473541259766\n",
            "  D loss: 0.001386823714710772\n",
            "\n",
            "31/50, 31.90145293746052\n",
            "  G loss: 9.413119316101074\n",
            "  D loss: 0.00041754721314646304\n",
            "\n",
            "31/50, 31.980416929879976\n",
            "  G loss: 5.3503546714782715\n",
            "  D loss: 0.24068842828273773\n",
            "\n"
          ],
          "name": "stdout"
        },
        {
          "output_type": "stream",
          "text": [
            "Clipping input data to the valid range for imshow with RGB data ([0..1] for floats or [0..255] for integers).\n"
          ],
          "name": "stderr"
        },
        {
          "output_type": "display_data",
          "data": {
            "image/png": "[encoded data removed]",
            "text/plain": [
              "<Figure size 432x288 with 1 Axes>"
            ]
          },
          "metadata": {
            "tags": [],
            "needs_background": "light"
          }
        },
        {
          "output_type": "stream",
          "text": [
            "32/50, 32.05938092229943\n",
            "  G loss: 12.195658683776855\n",
            "  D loss: 0.0011628505308181047\n",
            "\n",
            "32/50, 32.138344914718886\n",
            "  G loss: 7.434106349945068\n",
            "  D loss: 0.04267766699194908\n",
            "\n",
            "32/50, 32.217308907138346\n",
            "  G loss: 11.102526664733887\n",
            "  D loss: 0.0040899766609072685\n",
            "\n",
            "32/50, 32.2962728995578\n",
            "  G loss: 12.161537170410156\n",
            "  D loss: 0.028690261766314507\n",
            "\n",
            "32/50, 32.37523689197726\n",
            "  G loss: 9.627445220947266\n",
            "  D loss: 0.0019670254550874233\n",
            "\n",
            "32/50, 32.45420088439671\n",
            "  G loss: 12.777530670166016\n",
            "  D loss: 5.50680051674135e-05\n",
            "\n"
          ],
          "name": "stdout"
        },
        {
          "output_type": "stream",
          "text": [
            "Clipping input data to the valid range for imshow with RGB data ([0..1] for floats or [0..255] for integers).\n"
          ],
          "name": "stderr"
        },
        {
          "output_type": "display_data",
          "data": {
            "image/png": "[encoded data removed]",
            "text/plain": [
              "<Figure size 432x288 with 1 Axes>"
            ]
          },
          "metadata": {
            "tags": [],
            "needs_background": "light"
          }
        },
        {
          "output_type": "stream",
          "text": [
            "32/50, 32.53316487681617\n",
            "  G loss: 5.509061813354492\n",
            "  D loss: 0.14675860106945038\n",
            "\n",
            "32/50, 32.612128869235626\n",
            "  G loss: 6.956192970275879\n",
            "  D loss: 0.050607312470674515\n",
            "\n",
            "32/50, 32.691092861655086\n",
            "  G loss: 11.71992301940918\n",
            "  D loss: 0.0002735972811933607\n",
            "\n",
            "32/50, 32.77005685407454\n",
            "  G loss: 7.648153305053711\n",
            "  D loss: 0.028613317757844925\n",
            "\n",
            "32/50, 32.849020846494\n",
            "  G loss: 12.987415313720703\n",
            "  D loss: 0.21483881771564484\n",
            "\n",
            "32/50, 32.92798483891345\n",
            "  G loss: 12.5383939743042\n",
            "  D loss: 2.5478202587692067e-05\n",
            "\n"
          ],
          "name": "stdout"
        },
        {
          "output_type": "stream",
          "text": [
            "Clipping input data to the valid range for imshow with RGB data ([0..1] for floats or [0..255] for integers).\n"
          ],
          "name": "stderr"
        },
        {
          "output_type": "display_data",
          "data": {
            "image/png": "[encoded data removed]",
            "text/plain": [
              "<Figure size 432x288 with 1 Axes>"
            ]
          },
          "metadata": {
            "tags": [],
            "needs_background": "light"
          }
        },
        {
          "output_type": "stream",
          "text": [
            "33/50, 33.00694883133291\n",
            "  G loss: 10.71428108215332\n",
            "  D loss: 0.00657934695482254\n",
            "\n",
            "33/50, 33.085912823752366\n",
            "  G loss: 3.012809991836548\n",
            "  D loss: 0.05289849266409874\n",
            "\n",
            "33/50, 33.16487681617183\n",
            "  G loss: 13.876587867736816\n",
            "  D loss: 0.0010422492632642388\n",
            "\n",
            "33/50, 33.24384080859128\n",
            "  G loss: 10.019063949584961\n",
            "  D loss: 0.013492760248482227\n",
            "\n",
            "33/50, 33.32280480101074\n",
            "  G loss: 10.711414337158203\n",
            "  D loss: 0.01319338008761406\n",
            "\n",
            "33/50, 33.40176879343019\n",
            "  G loss: 8.978044509887695\n",
            "  D loss: 0.0027844677679240704\n",
            "\n",
            "33/50, 33.48073278584965\n",
            "  G loss: 13.313529968261719\n",
            "  D loss: 0.0002777349145617336\n",
            "\n"
          ],
          "name": "stdout"
        },
        {
          "output_type": "stream",
          "text": [
            "Clipping input data to the valid range for imshow with RGB data ([0..1] for floats or [0..255] for integers).\n"
          ],
          "name": "stderr"
        },
        {
          "output_type": "display_data",
          "data": {
            "image/png": "[encoded data removed]",
            "text/plain": [
              "<Figure size 432x288 with 1 Axes>"
            ]
          },
          "metadata": {
            "tags": [],
            "needs_background": "light"
          }
        },
        {
          "output_type": "stream",
          "text": [
            "33/50, 33.55969677826911\n",
            "  G loss: 12.039104461669922\n",
            "  D loss: 0.0002795568434521556\n",
            "\n",
            "33/50, 33.63866077068857\n",
            "  G loss: 4.522535800933838\n",
            "  D loss: 0.4753260612487793\n",
            "\n",
            "33/50, 33.71762476310802\n",
            "  G loss: 3.0180838108062744\n",
            "  D loss: 0.29295647144317627\n",
            "\n",
            "33/50, 33.79658875552748\n",
            "  G loss: 4.406803607940674\n",
            "  D loss: 0.32424092292785645\n",
            "\n",
            "33/50, 33.875552747946934\n",
            "  G loss: 11.734854698181152\n",
            "  D loss: 0.12550704181194305\n",
            "\n",
            "33/50, 33.954516740366394\n",
            "  G loss: 4.7304792404174805\n",
            "  D loss: 0.5260934829711914\n",
            "\n"
          ],
          "name": "stdout"
        },
        {
          "output_type": "stream",
          "text": [
            "Clipping input data to the valid range for imshow with RGB data ([0..1] for floats or [0..255] for integers).\n"
          ],
          "name": "stderr"
        },
        {
          "output_type": "display_data",
          "data": {
            "image/png": "[encoded data removed]",
            "text/plain": [
              "<Figure size 432x288 with 1 Axes>"
            ]
          },
          "metadata": {
            "tags": [],
            "needs_background": "light"
          }
        },
        {
          "output_type": "stream",
          "text": [
            "34/50, 34.03348073278585\n",
            "  G loss: 3.609096050262451\n",
            "  D loss: 3.3549153804779053\n",
            "\n",
            "34/50, 34.11244472520531\n",
            "  G loss: 8.479193687438965\n",
            "  D loss: 0.0023966317530721426\n",
            "\n",
            "34/50, 34.19140871762476\n",
            "  G loss: 6.78911018371582\n",
            "  D loss: 0.03836604207754135\n",
            "\n",
            "34/50, 34.27037271004422\n",
            "  G loss: 6.812482833862305\n",
            "  D loss: 0.056221432983875275\n",
            "\n",
            "34/50, 34.349336702463674\n",
            "  G loss: 15.627894401550293\n",
            "  D loss: 0.0004441827768459916\n",
            "\n",
            "34/50, 34.428300694883134\n",
            "  G loss: 10.17120361328125\n",
            "  D loss: 0.027243297547101974\n",
            "\n"
          ],
          "name": "stdout"
        },
        {
          "output_type": "stream",
          "text": [
            "Clipping input data to the valid range for imshow with RGB data ([0..1] for floats or [0..255] for integers).\n"
          ],
          "name": "stderr"
        },
        {
          "output_type": "display_data",
          "data": {
            "image/png": "[encoded data removed]",
            "text/plain": [
              "<Figure size 432x288 with 1 Axes>"
            ]
          },
          "metadata": {
            "tags": [],
            "needs_background": "light"
          }
        },
        {
          "output_type": "stream",
          "text": [
            "34/50, 34.50726468730259\n",
            "  G loss: 11.756569862365723\n",
            "  D loss: 0.0026326326187700033\n",
            "\n",
            "34/50, 34.58622867972205\n",
            "  G loss: 13.840442657470703\n",
            "  D loss: 0.027252178639173508\n",
            "\n",
            "34/50, 34.6651926721415\n",
            "  G loss: 10.412103652954102\n",
            "  D loss: 0.007825232110917568\n",
            "\n",
            "34/50, 34.74415666456096\n",
            "  G loss: 9.29798698425293\n",
            "  D loss: 0.001446401234716177\n",
            "\n",
            "34/50, 34.823120656980414\n",
            "  G loss: 13.182490348815918\n",
            "  D loss: 0.10712756961584091\n",
            "\n",
            "34/50, 34.902084649399875\n",
            "  G loss: 5.919206619262695\n",
            "  D loss: 0.053127653896808624\n",
            "\n",
            "34/50, 34.98104864181933\n",
            "  G loss: 4.978569984436035\n",
            "  D loss: 0.17087239027023315\n",
            "\n"
          ],
          "name": "stdout"
        },
        {
          "output_type": "stream",
          "text": [
            "Clipping input data to the valid range for imshow with RGB data ([0..1] for floats or [0..255] for integers).\n"
          ],
          "name": "stderr"
        },
        {
          "output_type": "display_data",
          "data": {
            "image/png": "[encoded data removed]",
            "text/plain": [
              "<Figure size 432x288 with 1 Axes>"
            ]
          },
          "metadata": {
            "tags": [],
            "needs_background": "light"
          }
        },
        {
          "output_type": "stream",
          "text": [
            "35/50, 35.06001263423879\n",
            "  G loss: 10.52572250366211\n",
            "  D loss: 0.003515315940603614\n",
            "\n",
            "35/50, 35.13897662665824\n",
            "  G loss: 7.959486961364746\n",
            "  D loss: 0.01691124588251114\n",
            "\n",
            "35/50, 35.2179406190777\n",
            "  G loss: 6.468255043029785\n",
            "  D loss: 0.029449699446558952\n",
            "\n",
            "35/50, 35.296904611497155\n",
            "  G loss: 16.15784454345703\n",
            "  D loss: 0.06348299235105515\n",
            "\n",
            "35/50, 35.375868603916615\n",
            "  G loss: 12.25434684753418\n",
            "  D loss: 0.0006317254155874252\n",
            "\n",
            "35/50, 35.45483259633607\n",
            "  G loss: 7.978565216064453\n",
            "  D loss: 0.06800059974193573\n",
            "\n"
          ],
          "name": "stdout"
        },
        {
          "output_type": "stream",
          "text": [
            "Clipping input data to the valid range for imshow with RGB data ([0..1] for floats or [0..255] for integers).\n"
          ],
          "name": "stderr"
        },
        {
          "output_type": "display_data",
          "data": {
            "image/png": "[encoded data removed]",
            "text/plain": [
              "<Figure size 432x288 with 1 Axes>"
            ]
          },
          "metadata": {
            "tags": [],
            "needs_background": "light"
          }
        },
        {
          "output_type": "stream",
          "text": [
            "35/50, 35.53379658875553\n",
            "  G loss: 9.339685440063477\n",
            "  D loss: 0.0017827623523771763\n",
            "\n",
            "35/50, 35.61276058117498\n",
            "  G loss: 9.481866836547852\n",
            "  D loss: 0.07640578597784042\n",
            "\n",
            "35/50, 35.69172457359444\n",
            "  G loss: 11.455446243286133\n",
            "  D loss: 0.00603141076862812\n",
            "\n",
            "35/50, 35.770688566013895\n",
            "  G loss: 7.767604827880859\n",
            "  D loss: 0.0036192145198583603\n",
            "\n",
            "35/50, 35.849652558433355\n",
            "  G loss: 9.427013397216797\n",
            "  D loss: 0.009127415716648102\n",
            "\n",
            "35/50, 35.92861655085281\n",
            "  G loss: 10.456981658935547\n",
            "  D loss: 0.016334310173988342\n",
            "\n"
          ],
          "name": "stdout"
        },
        {
          "output_type": "stream",
          "text": [
            "Clipping input data to the valid range for imshow with RGB data ([0..1] for floats or [0..255] for integers).\n"
          ],
          "name": "stderr"
        },
        {
          "output_type": "display_data",
          "data": {
            "image/png": "[encoded data removed]",
            "text/plain": [
              "<Figure size 432x288 with 1 Axes>"
            ]
          },
          "metadata": {
            "tags": [],
            "needs_background": "light"
          }
        },
        {
          "output_type": "stream",
          "text": [
            "36/50, 36.00758054327227\n",
            "  G loss: 13.015693664550781\n",
            "  D loss: 0.0001375183928757906\n",
            "\n",
            "36/50, 36.08654453569172\n",
            "  G loss: 12.138742446899414\n",
            "  D loss: 0.0005978381959721446\n",
            "\n",
            "36/50, 36.16550852811118\n",
            "  G loss: 7.68386697769165\n",
            "  D loss: 0.005643039010465145\n",
            "\n",
            "36/50, 36.244472520530636\n",
            "  G loss: 13.87252426147461\n",
            "  D loss: 0.04391570761799812\n",
            "\n",
            "36/50, 36.323436512950096\n",
            "  G loss: 13.383740425109863\n",
            "  D loss: 0.0022345713805407286\n",
            "\n",
            "36/50, 36.40240050536955\n",
            "  G loss: 8.837593078613281\n",
            "  D loss: 0.0026475354097783566\n",
            "\n",
            "36/50, 36.48136449778901\n",
            "  G loss: 16.864418029785156\n",
            "  D loss: 7.693567022215575e-05\n",
            "\n"
          ],
          "name": "stdout"
        },
        {
          "output_type": "stream",
          "text": [
            "Clipping input data to the valid range for imshow with RGB data ([0..1] for floats or [0..255] for integers).\n"
          ],
          "name": "stderr"
        },
        {
          "output_type": "display_data",
          "data": {
            "image/png": "[encoded data removed]",
            "text/plain": [
              "<Figure size 432x288 with 1 Axes>"
            ]
          },
          "metadata": {
            "tags": [],
            "needs_background": "light"
          }
        },
        {
          "output_type": "stream",
          "text": [
            "36/50, 36.56032849020846\n",
            "  G loss: 7.098779678344727\n",
            "  D loss: 0.04259224236011505\n",
            "\n",
            "36/50, 36.63929248262792\n",
            "  G loss: 10.056371688842773\n",
            "  D loss: 0.00250932015478611\n",
            "\n",
            "36/50, 36.718256475047376\n",
            "  G loss: 9.830717086791992\n",
            "  D loss: 0.9702766537666321\n",
            "\n",
            "36/50, 36.797220467466836\n",
            "  G loss: 9.20712661743164\n",
            "  D loss: 0.002716550137847662\n",
            "\n",
            "36/50, 36.87618445988629\n",
            "  G loss: 9.136344909667969\n",
            "  D loss: 0.0040680780075490475\n",
            "\n",
            "36/50, 36.95514845230575\n",
            "  G loss: 11.442863464355469\n",
            "  D loss: 0.0020883081015199423\n",
            "\n"
          ],
          "name": "stdout"
        },
        {
          "output_type": "stream",
          "text": [
            "Clipping input data to the valid range for imshow with RGB data ([0..1] for floats or [0..255] for integers).\n"
          ],
          "name": "stderr"
        },
        {
          "output_type": "display_data",
          "data": {
            "image/png": "[encoded data removed]",
            "text/plain": [
              "<Figure size 432x288 with 1 Axes>"
            ]
          },
          "metadata": {
            "tags": [],
            "needs_background": "light"
          }
        },
        {
          "output_type": "stream",
          "text": [
            "37/50, 37.0341124447252\n",
            "  G loss: 7.92221736907959\n",
            "  D loss: 0.026118651032447815\n",
            "\n",
            "37/50, 37.11307643714466\n",
            "  G loss: 16.143531799316406\n",
            "  D loss: 0.0019067416433244944\n",
            "\n",
            "37/50, 37.192040429564116\n",
            "  G loss: 19.03795623779297\n",
            "  D loss: 0.00020674073311965913\n",
            "\n",
            "37/50, 37.27100442198358\n",
            "  G loss: 22.764482498168945\n",
            "  D loss: 3.495135545730591\n",
            "\n",
            "37/50, 37.34996841440303\n",
            "  G loss: 26.497713088989258\n",
            "  D loss: 0.027873285114765167\n",
            "\n",
            "37/50, 37.42893240682249\n",
            "  G loss: 14.18249225616455\n",
            "  D loss: 0.00016667021554894745\n",
            "\n"
          ],
          "name": "stdout"
        },
        {
          "output_type": "stream",
          "text": [
            "Clipping input data to the valid range for imshow with RGB data ([0..1] for floats or [0..255] for integers).\n"
          ],
          "name": "stderr"
        },
        {
          "output_type": "display_data",
          "data": {
            "image/png": "[encoded data removed]",
            "text/plain": [
              "<Figure size 432x288 with 1 Axes>"
            ]
          },
          "metadata": {
            "tags": [],
            "needs_background": "light"
          }
        },
        {
          "output_type": "stream",
          "text": [
            "37/50, 37.50789639924194\n",
            "  G loss: 13.447059631347656\n",
            "  D loss: 0.2696838974952698\n",
            "\n",
            "37/50, 37.5868603916614\n",
            "  G loss: 6.604094505310059\n",
            "  D loss: 0.03344476968050003\n",
            "\n",
            "37/50, 37.66582438408086\n",
            "  G loss: 21.157760620117188\n",
            "  D loss: 0.0427468977868557\n",
            "\n",
            "37/50, 37.74478837650032\n",
            "  G loss: 7.968018531799316\n",
            "  D loss: 0.004923619795590639\n",
            "\n",
            "37/50, 37.82375236891977\n",
            "  G loss: 13.34939956665039\n",
            "  D loss: 0.011838377453386784\n",
            "\n",
            "37/50, 37.90271636133923\n",
            "  G loss: 12.166501998901367\n",
            "  D loss: 0.0007035158341750503\n",
            "\n",
            "37/50, 37.981680353758684\n",
            "  G loss: 10.382096290588379\n",
            "  D loss: 0.0744619220495224\n",
            "\n"
          ],
          "name": "stdout"
        },
        {
          "output_type": "stream",
          "text": [
            "Clipping input data to the valid range for imshow with RGB data ([0..1] for floats or [0..255] for integers).\n"
          ],
          "name": "stderr"
        },
        {
          "output_type": "display_data",
          "data": {
            "image/png": "[encoded data removed]",
            "text/plain": [
              "<Figure size 432x288 with 1 Axes>"
            ]
          },
          "metadata": {
            "tags": [],
            "needs_background": "light"
          }
        },
        {
          "output_type": "stream",
          "text": [
            "38/50, 38.060644346178144\n",
            "  G loss: 10.85952377319336\n",
            "  D loss: 0.0007631732150912285\n",
            "\n",
            "38/50, 38.1396083385976\n",
            "  G loss: 16.217744827270508\n",
            "  D loss: 0.04908492788672447\n",
            "\n",
            "38/50, 38.21857233101706\n",
            "  G loss: 8.877229690551758\n",
            "  D loss: 0.038753442466259\n",
            "\n",
            "38/50, 38.29753632343651\n",
            "  G loss: 11.379779815673828\n",
            "  D loss: 0.000811462348792702\n",
            "\n",
            "38/50, 38.37650031585597\n",
            "  G loss: 14.038101196289062\n",
            "  D loss: 0.05812004208564758\n",
            "\n",
            "38/50, 38.455464308275424\n",
            "  G loss: 13.944442749023438\n",
            "  D loss: 0.014291343279182911\n",
            "\n"
          ],
          "name": "stdout"
        },
        {
          "output_type": "stream",
          "text": [
            "Clipping input data to the valid range for imshow with RGB data ([0..1] for floats or [0..255] for integers).\n"
          ],
          "name": "stderr"
        },
        {
          "output_type": "display_data",
          "data": {
            "image/png": "[encoded data removed]",
            "text/plain": [
              "<Figure size 432x288 with 1 Axes>"
            ]
          },
          "metadata": {
            "tags": [],
            "needs_background": "light"
          }
        },
        {
          "output_type": "stream",
          "text": [
            "38/50, 38.534428300694884\n",
            "  G loss: 12.783894538879395\n",
            "  D loss: 0.03509091958403587\n",
            "\n",
            "38/50, 38.61339229311434\n",
            "  G loss: 10.961087226867676\n",
            "  D loss: 0.0023727279622107744\n",
            "\n",
            "38/50, 38.6923562855338\n",
            "  G loss: 9.898592948913574\n",
            "  D loss: 0.06946694105863571\n",
            "\n",
            "38/50, 38.77132027795325\n",
            "  G loss: 8.106419563293457\n",
            "  D loss: 0.1916712373495102\n",
            "\n",
            "38/50, 38.85028427037271\n",
            "  G loss: 4.720823764801025\n",
            "  D loss: 1.800567388534546\n",
            "\n",
            "38/50, 38.929248262792164\n",
            "  G loss: 7.870730876922607\n",
            "  D loss: 0.03549984097480774\n",
            "\n"
          ],
          "name": "stdout"
        },
        {
          "output_type": "stream",
          "text": [
            "Clipping input data to the valid range for imshow with RGB data ([0..1] for floats or [0..255] for integers).\n"
          ],
          "name": "stderr"
        },
        {
          "output_type": "display_data",
          "data": {
            "image/png": "[encoded data removed]",
            "text/plain": [
              "<Figure size 432x288 with 1 Axes>"
            ]
          },
          "metadata": {
            "tags": [],
            "needs_background": "light"
          }
        },
        {
          "output_type": "stream",
          "text": [
            "39/50, 39.008212255211625\n",
            "  G loss: 15.478137969970703\n",
            "  D loss: 0.3497052788734436\n",
            "\n",
            "39/50, 39.08717624763108\n",
            "  G loss: 9.347238540649414\n",
            "  D loss: 0.003335505723953247\n",
            "\n",
            "39/50, 39.16614024005054\n",
            "  G loss: 15.330914497375488\n",
            "  D loss: 0.0019178519723936915\n",
            "\n",
            "39/50, 39.24510423246999\n",
            "  G loss: 9.540853500366211\n",
            "  D loss: 0.31669414043426514\n",
            "\n",
            "39/50, 39.32406822488945\n",
            "  G loss: 15.102846145629883\n",
            "  D loss: 0.013891549780964851\n",
            "\n"
          ],
          "name": "stdout"
        }
      ]
    },
    {
      "cell_type": "code",
      "metadata": {
        "id": "jP4hziIekgfg"
      },
      "source": [
        "mas2 = []\n",
        "for number in range(10):\n",
        "    vec = torch.randn(1, latent_size, 1, 1).to(device)\n",
        "    mas2.append(vec)"
      ],
      "execution_count": null,
      "outputs": []
    },
    {
      "cell_type": "code",
      "metadata": {
        "colab": {
          "base_uri": "https://localhost:8080/",
          "height": 1000
        },
        "id": "bmRdthGoF2kZ",
        "outputId": "79ed5052-7955-4969-f671-374cce8ffec9"
      },
      "source": [
        "G.eval()\n",
        "for vec in mas2:\n",
        "    draw(vec)"
      ],
      "execution_count": null,
      "outputs": [
        {
          "output_type": "stream",
          "text": [
            "Clipping input data to the valid range for imshow with RGB data ([0..1] for floats or [0..255] for integers).\n"
          ],
          "name": "stderr"
        },
        {
          "output_type": "display_data",
          "data": {
            "image/png": "[encoded data removed]",
            "text/plain": [
              "<Figure size 432x288 with 1 Axes>"
            ]
          },
          "metadata": {
            "tags": [],
            "needs_background": "light"
          }
        },
        {
          "output_type": "stream",
          "text": [
            "Clipping input data to the valid range for imshow with RGB data ([0..1] for floats or [0..255] for integers).\n"
          ],
          "name": "stderr"
        },
        {
          "output_type": "display_data",
          "data": {
            "image/png": "[encoded data removed]",
            "text/plain": [
              "<Figure size 432x288 with 1 Axes>"
            ]
          },
          "metadata": {
            "tags": [],
            "needs_background": "light"
          }
        },
        {
          "output_type": "stream",
          "text": [
            "Clipping input data to the valid range for imshow with RGB data ([0..1] for floats or [0..255] for integers).\n"
          ],
          "name": "stderr"
        },
        {
          "output_type": "display_data",
          "data": {
            "image/png": "[encoded data removed]",
            "text/plain": [
              "<Figure size 432x288 with 1 Axes>"
            ]
          },
          "metadata": {
            "tags": [],
            "needs_background": "light"
          }
        },
        {
          "output_type": "stream",
          "text": [
            "Clipping input data to the valid range for imshow with RGB data ([0..1] for floats or [0..255] for integers).\n"
          ],
          "name": "stderr"
        },
        {
          "output_type": "display_data",
          "data": {
            "image/png": "[encoded data removed]",
            "text/plain": [
              "<Figure size 432x288 with 1 Axes>"
            ]
          },
          "metadata": {
            "tags": [],
            "needs_background": "light"
          }
        },
        {
          "output_type": "stream",
          "text": [
            "Clipping input data to the valid range for imshow with RGB data ([0..1] for floats or [0..255] for integers).\n"
          ],
          "name": "stderr"
        },
        {
          "output_type": "display_data",
          "data": {
            "image/png": "[encoded data removed]",
            "text/plain": [
              "<Figure size 432x288 with 1 Axes>"
            ]
          },
          "metadata": {
            "tags": [],
            "needs_background": "light"
          }
        },
        {
          "output_type": "stream",
          "text": [
            "Clipping input data to the valid range for imshow with RGB data ([0..1] for floats or [0..255] for integers).\n"
          ],
          "name": "stderr"
        },
        {
          "output_type": "display_data",
          "data": {
            "image/png": "[encoded data removed]",
            "text/plain": [
              "<Figure size 432x288 with 1 Axes>"
            ]
          },
          "metadata": {
            "tags": [],
            "needs_background": "light"
          }
        },
        {
          "output_type": "stream",
          "text": [
            "Clipping input data to the valid range for imshow with RGB data ([0..1] for floats or [0..255] for integers).\n"
          ],
          "name": "stderr"
        },
        {
          "output_type": "display_data",
          "data": {
            "image/png": "[encoded data removed]",
            "text/plain": [
              "<Figure size 432x288 with 1 Axes>"
            ]
          },
          "metadata": {
            "tags": [],
            "needs_background": "light"
          }
        },
        {
          "output_type": "stream",
          "text": [
            "Clipping input data to the valid range for imshow with RGB data ([0..1] for floats or [0..255] for integers).\n"
          ],
          "name": "stderr"
        },
        {
          "output_type": "display_data",
          "data": {
            "image/png": "[encoded data removed]",
            "text/plain": [
              "<Figure size 432x288 with 1 Axes>"
            ]
          },
          "metadata": {
            "tags": [],
            "needs_background": "light"
          }
        },
        {
          "output_type": "stream",
          "text": [
            "Clipping input data to the valid range for imshow with RGB data ([0..1] for floats or [0..255] for integers).\n"
          ],
          "name": "stderr"
        },
        {
          "output_type": "display_data",
          "data": {
            "image/png": "[encoded data removed]",
            "text/plain": [
              "<Figure size 432x288 with 1 Axes>"
            ]
          },
          "metadata": {
            "tags": [],
            "needs_background": "light"
          }
        },
        {
          "output_type": "stream",
          "text": [
            "Clipping input data to the valid range for imshow with RGB data ([0..1] for floats or [0..255] for integers).\n"
          ],
          "name": "stderr"
        },
        {
          "output_type": "display_data",
          "data": {
            "image/png": "[encoded data removed]",
            "text/plain": [
              "<Figure size 432x288 with 1 Axes>"
            ]
          },
          "metadata": {
            "tags": [],
            "needs_background": "light"
          }
        }
      ]
    }
  ]
}